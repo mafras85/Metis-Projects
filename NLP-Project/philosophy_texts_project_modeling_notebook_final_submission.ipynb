{
 "cells": [
  {
   "cell_type": "code",
   "execution_count": 1,
   "id": "64a73baa",
   "metadata": {},
   "outputs": [],
   "source": [
    "# Imports\n",
    "\n",
    "import pandas as pd\n",
    "import re\n",
    "import string\n",
    "from sklearn.feature_extraction import text\n",
    "from sklearn.feature_extraction.text import CountVectorizer, TfidfVectorizer\n",
    "from sklearn.decomposition import NMF, TruncatedSVD\n",
    "from matplotlib import pyplot as plt\n",
    "from operator import itemgetter\n",
    "import warnings\n",
    "warnings.filterwarnings('ignore')\n",
    "%matplotlib inline"
   ]
  },
  {
   "cell_type": "code",
   "execution_count": 2,
   "id": "72fcbe9a",
   "metadata": {},
   "outputs": [],
   "source": [
    "# Loading the dataset\n",
    "\n",
    "df = pd.read_csv('philosophy_data.csv', usecols=[0, 1, 2, 4, 7])"
   ]
  },
  {
   "cell_type": "code",
   "execution_count": 3,
   "id": "c96d4456",
   "metadata": {},
   "outputs": [
    {
     "data": {
      "text/html": [
       "<div>\n",
       "<style scoped>\n",
       "    .dataframe tbody tr th:only-of-type {\n",
       "        vertical-align: middle;\n",
       "    }\n",
       "\n",
       "    .dataframe tbody tr th {\n",
       "        vertical-align: top;\n",
       "    }\n",
       "\n",
       "    .dataframe thead th {\n",
       "        text-align: right;\n",
       "    }\n",
       "</style>\n",
       "<table border=\"1\" class=\"dataframe\">\n",
       "  <thead>\n",
       "    <tr style=\"text-align: right;\">\n",
       "      <th></th>\n",
       "      <th>title</th>\n",
       "      <th>author</th>\n",
       "      <th>school</th>\n",
       "      <th>sentence_str</th>\n",
       "      <th>sentence_length</th>\n",
       "    </tr>\n",
       "  </thead>\n",
       "  <tbody>\n",
       "    <tr>\n",
       "      <th>0</th>\n",
       "      <td>Plato - Complete Works</td>\n",
       "      <td>Plato</td>\n",
       "      <td>plato</td>\n",
       "      <td>What's new, Socrates, to make you leave your ...</td>\n",
       "      <td>125</td>\n",
       "    </tr>\n",
       "    <tr>\n",
       "      <th>1</th>\n",
       "      <td>Plato - Complete Works</td>\n",
       "      <td>Plato</td>\n",
       "      <td>plato</td>\n",
       "      <td>Surely you are not prosecuting anyone before t...</td>\n",
       "      <td>69</td>\n",
       "    </tr>\n",
       "    <tr>\n",
       "      <th>2</th>\n",
       "      <td>Plato - Complete Works</td>\n",
       "      <td>Plato</td>\n",
       "      <td>plato</td>\n",
       "      <td>The Athenians do not call this a prosecution b...</td>\n",
       "      <td>74</td>\n",
       "    </tr>\n",
       "    <tr>\n",
       "      <th>3</th>\n",
       "      <td>Plato - Complete Works</td>\n",
       "      <td>Plato</td>\n",
       "      <td>plato</td>\n",
       "      <td>What is this you say?</td>\n",
       "      <td>21</td>\n",
       "    </tr>\n",
       "    <tr>\n",
       "      <th>4</th>\n",
       "      <td>Plato - Complete Works</td>\n",
       "      <td>Plato</td>\n",
       "      <td>plato</td>\n",
       "      <td>Someone must have indicted you, for you are no...</td>\n",
       "      <td>101</td>\n",
       "    </tr>\n",
       "  </tbody>\n",
       "</table>\n",
       "</div>"
      ],
      "text/plain": [
       "                    title author school  \\\n",
       "0  Plato - Complete Works  Plato  plato   \n",
       "1  Plato - Complete Works  Plato  plato   \n",
       "2  Plato - Complete Works  Plato  plato   \n",
       "3  Plato - Complete Works  Plato  plato   \n",
       "4  Plato - Complete Works  Plato  plato   \n",
       "\n",
       "                                        sentence_str  sentence_length  \n",
       "0   What's new, Socrates, to make you leave your ...              125  \n",
       "1  Surely you are not prosecuting anyone before t...               69  \n",
       "2  The Athenians do not call this a prosecution b...               74  \n",
       "3                              What is this you say?               21  \n",
       "4  Someone must have indicted you, for you are no...              101  "
      ]
     },
     "execution_count": 3,
     "metadata": {},
     "output_type": "execute_result"
    }
   ],
   "source": [
    "df.head()"
   ]
  },
  {
   "cell_type": "markdown",
   "id": "3660b8e0",
   "metadata": {},
   "source": [
    "### Marcus Aurelius is an emperor and statesman rather than a philosopher. Therefore he would be dropped from the dataframe:"
   ]
  },
  {
   "cell_type": "code",
   "execution_count": 4,
   "id": "3e57082a",
   "metadata": {},
   "outputs": [],
   "source": [
    "# Dropping of Marcus Aurelius (a play by Shakespeare!)\n",
    "\n",
    "df.drop(df[df['author']=='Marcus Aurelius'].index, inplace=True)\n",
    "df.reset_index(inplace=True)"
   ]
  },
  {
   "cell_type": "code",
   "execution_count": 5,
   "id": "10d6ad58",
   "metadata": {},
   "outputs": [
    {
     "data": {
      "text/plain": [
       "<AxesSubplot:>"
      ]
     },
     "execution_count": 5,
     "metadata": {},
     "output_type": "execute_result"
    },
    {
     "data": {
      "image/png": "[encoded data removed]",
      "text/plain": [
       "<Figure size 432x288 with 1 Axes>"
      ]
     },
     "metadata": {
      "needs_background": "light"
     },
     "output_type": "display_data"
    }
   ],
   "source": [
    "# The share of the texts by philospher \n",
    "\n",
    "philosopher_pcts = df['author'].value_counts()\n",
    "philosopher_pcts.plot(kind='bar')"
   ]
  },
  {
   "cell_type": "markdown",
   "id": "379942c2",
   "metadata": {},
   "source": [
    "### Aristotle, Plato and Hegel have a large share of the excerpts. This is important as some normalization should be done for interpretation later. "
   ]
  },
  {
   "cell_type": "code",
   "execution_count": 6,
   "id": "dfb824ac",
   "metadata": {},
   "outputs": [
    {
     "data": {
      "text/plain": [
       "array(['plato', 'aristotle', 'empiricism', 'rationalism', 'analytic',\n",
       "       'continental', 'phenomenology', 'german_idealism', 'communism',\n",
       "       'capitalism', 'stoicism', 'nietzsche', 'feminism'], dtype=object)"
      ]
     },
     "execution_count": 6,
     "metadata": {},
     "output_type": "execute_result"
    }
   ],
   "source": [
    "# The original designated schools\n",
    "\n",
    "df['school'].unique()"
   ]
  },
  {
   "cell_type": "markdown",
   "id": "d2e302a2",
   "metadata": {},
   "source": [
    "### Initial cleaning of the texts: "
   ]
  },
  {
   "cell_type": "code",
   "execution_count": 7,
   "id": "4986c9e0",
   "metadata": {},
   "outputs": [],
   "source": [
    "# A function to remove punctuations, numbers and special characters\n",
    "\n",
    "def pre_processor(array):\n",
    "    numbers_removed = []\n",
    "    all_removed = []\n",
    "    for i in range(len(array)):\n",
    "        numbers_removed.append(re.sub('\\w*\\d\\w*', '', array.iloc[i]))\n",
    "    for i in range(len(numbers_removed)):\n",
    "        all_removed.append(re.sub('[%s]' % re.escape(string.punctuation), \n",
    "                                          ' ', numbers_removed[i]).lower())\n",
    "    return all_removed"
   ]
  },
  {
   "cell_type": "code",
   "execution_count": 8,
   "id": "0b4e4c7c",
   "metadata": {},
   "outputs": [],
   "source": [
    "clean_text = pre_processor(df['sentence_str'])"
   ]
  },
  {
   "cell_type": "code",
   "execution_count": 9,
   "id": "48bf9b27",
   "metadata": {},
   "outputs": [],
   "source": [
    "df['clean_text'] = clean_text"
   ]
  },
  {
   "cell_type": "code",
   "execution_count": 10,
   "id": "85bd7bd2",
   "metadata": {},
   "outputs": [
    {
     "data": {
      "text/html": [
       "<div>\n",
       "<style scoped>\n",
       "    .dataframe tbody tr th:only-of-type {\n",
       "        vertical-align: middle;\n",
       "    }\n",
       "\n",
       "    .dataframe tbody tr th {\n",
       "        vertical-align: top;\n",
       "    }\n",
       "\n",
       "    .dataframe thead th {\n",
       "        text-align: right;\n",
       "    }\n",
       "</style>\n",
       "<table border=\"1\" class=\"dataframe\">\n",
       "  <thead>\n",
       "    <tr style=\"text-align: right;\">\n",
       "      <th></th>\n",
       "      <th>index</th>\n",
       "      <th>title</th>\n",
       "      <th>author</th>\n",
       "      <th>school</th>\n",
       "      <th>sentence_str</th>\n",
       "      <th>sentence_length</th>\n",
       "      <th>clean_text</th>\n",
       "    </tr>\n",
       "  </thead>\n",
       "  <tbody>\n",
       "    <tr>\n",
       "      <th>0</th>\n",
       "      <td>0</td>\n",
       "      <td>Plato - Complete Works</td>\n",
       "      <td>Plato</td>\n",
       "      <td>plato</td>\n",
       "      <td>What's new, Socrates, to make you leave your ...</td>\n",
       "      <td>125</td>\n",
       "      <td>what s new  socrates  to make you leave your ...</td>\n",
       "    </tr>\n",
       "    <tr>\n",
       "      <th>1</th>\n",
       "      <td>1</td>\n",
       "      <td>Plato - Complete Works</td>\n",
       "      <td>Plato</td>\n",
       "      <td>plato</td>\n",
       "      <td>Surely you are not prosecuting anyone before t...</td>\n",
       "      <td>69</td>\n",
       "      <td>surely you are not prosecuting anyone before t...</td>\n",
       "    </tr>\n",
       "    <tr>\n",
       "      <th>2</th>\n",
       "      <td>2</td>\n",
       "      <td>Plato - Complete Works</td>\n",
       "      <td>Plato</td>\n",
       "      <td>plato</td>\n",
       "      <td>The Athenians do not call this a prosecution b...</td>\n",
       "      <td>74</td>\n",
       "      <td>the athenians do not call this a prosecution b...</td>\n",
       "    </tr>\n",
       "    <tr>\n",
       "      <th>3</th>\n",
       "      <td>3</td>\n",
       "      <td>Plato - Complete Works</td>\n",
       "      <td>Plato</td>\n",
       "      <td>plato</td>\n",
       "      <td>What is this you say?</td>\n",
       "      <td>21</td>\n",
       "      <td>what is this you say</td>\n",
       "    </tr>\n",
       "    <tr>\n",
       "      <th>4</th>\n",
       "      <td>4</td>\n",
       "      <td>Plato - Complete Works</td>\n",
       "      <td>Plato</td>\n",
       "      <td>plato</td>\n",
       "      <td>Someone must have indicted you, for you are no...</td>\n",
       "      <td>101</td>\n",
       "      <td>someone must have indicted you  for you are no...</td>\n",
       "    </tr>\n",
       "  </tbody>\n",
       "</table>\n",
       "</div>"
      ],
      "text/plain": [
       "   index                   title author school  \\\n",
       "0      0  Plato - Complete Works  Plato  plato   \n",
       "1      1  Plato - Complete Works  Plato  plato   \n",
       "2      2  Plato - Complete Works  Plato  plato   \n",
       "3      3  Plato - Complete Works  Plato  plato   \n",
       "4      4  Plato - Complete Works  Plato  plato   \n",
       "\n",
       "                                        sentence_str  sentence_length  \\\n",
       "0   What's new, Socrates, to make you leave your ...              125   \n",
       "1  Surely you are not prosecuting anyone before t...               69   \n",
       "2  The Athenians do not call this a prosecution b...               74   \n",
       "3                              What is this you say?               21   \n",
       "4  Someone must have indicted you, for you are no...              101   \n",
       "\n",
       "                                          clean_text  \n",
       "0   what s new  socrates  to make you leave your ...  \n",
       "1  surely you are not prosecuting anyone before t...  \n",
       "2  the athenians do not call this a prosecution b...  \n",
       "3                              what is this you say   \n",
       "4  someone must have indicted you  for you are no...  "
      ]
     },
     "execution_count": 10,
     "metadata": {},
     "output_type": "execute_result"
    }
   ],
   "source": [
    "df.head()"
   ]
  },
  {
   "cell_type": "markdown",
   "id": "5309f193",
   "metadata": {},
   "source": [
    "### Now in order to automate the vectorization and topic modeling a bit, the following function would be defined. It would return the top 15 salient word for each combination of vectorizer and modeler: "
   ]
  },
  {
   "cell_type": "code",
   "execution_count": 11,
   "id": "da294f6b",
   "metadata": {},
   "outputs": [],
   "source": [
    "# Vectorization and modeler function\n",
    "\n",
    "def make_topics(docs, vectorizer, topic_modeler, print_n_words=15):\n",
    "    \n",
    "    doc_word_vectors = vectorizer.fit_transform(docs)\n",
    "    \n",
    "    doc_topic_vectors = topic_modeler.fit_transform(doc_word_vectors)\n",
    "    \n",
    "    vocab = vectorizer.get_feature_names()\n",
    "    for idx, topic in enumerate(topic_modeler.components_):\n",
    "        top_words = [vocab[i].upper() for i in topic.argsort()[:-print_n_words-1:-1]]\n",
    "        print(f\"Topic {idx}:\\n\", \", \".join(top_words), \"\\n\")\n",
    "    \n",
    "    print(topic_modeler.components_.shape)"
   ]
  },
  {
   "cell_type": "markdown",
   "id": "ee03cc87",
   "metadata": {},
   "source": [
    "### NMF modeler and TFIDFVectorizer:"
   ]
  },
  {
   "cell_type": "code",
   "execution_count": 12,
   "id": "a8eed3a3",
   "metadata": {},
   "outputs": [
    {
     "name": "stdout",
     "output_type": "stream",
     "text": [
      "Topic 0:\n",
      " WORLD, NATURE, WAY, REASON, OBJECT, SENSE, POSSIBLE, FORM, KNOWLEDGE, BODY, CASE, CONSCIOUSNESS, SELF, IDEA, CONCEPT \n",
      "\n",
      "Topic 1:\n",
      " SAY, LIKE, LET, SHALL, RIGHT, SOCRATES, MEAN, PEOPLE, LL, JUST, DON, DID, YES, WANT, CASE \n",
      "\n",
      "Topic 2:\n",
      " THINGS, DIFFERENT, IDEAS, COME, EXIST, NATURE, GOD, MOTION, MIND, SENSIBLE, KIND, NUMBER, LIKE, USEFUL, PEOPLE \n",
      "\n",
      "Topic 3:\n",
      " MAN, GOOD, BAD, MEN, GOD, WOMAN, EVIL, LOVE, PLEASURE, LIFE, LIKE, JUST, ANIMAL, PEOPLE, MAKE \n",
      "\n",
      "Topic 4:\n",
      " DOES, MEAN, BELONG, EXIST, FOLLOW, BELONGS, COME, MAKE, FACT, HAPPEN, OCCUR, CONSIST, MATTER, PERSON, HOLD \n",
      "\n",
      "Topic 5:\n",
      " THING, DIFFERENT, SORT, KIND, IMPOSSIBLE, MOTION, MEAN, CAUSE, EXISTENCE, SUBSTANCE, BELONG, ESSENCE, EXISTS, PROPERTY, SINGLE \n",
      "\n",
      "Topic 6:\n",
      " TRUE, FALSE, IDEAS, PROPOSITION, TRUTH, STATEMENT, BELIEF, CONCLUSION, BELONGS, IDEA, USEFUL, PROPOSITIONS, SENTENCE, CERTAINLY, SENSE \n",
      "\n",
      "Topic 7:\n",
      " KNOW, THINK, DON, PEOPLE, DID, SOCRATES, BELIEVE, REALLY, MEN, KNOWLEDGE, ANSWER, CERTAINLY, UNDERSTAND, MEANS, QUESTION \n",
      "\n",
      "Topic 8:\n",
      " SAID, JUST, SOCRATES, RIGHT, LET, YES, THINK, CERTAINLY, LIKE, VE, DID, TELL, COME, DON, ANSWER \n",
      "\n",
      "Topic 9:\n",
      " TIME, SPACE, PRESENT, LABOUR, MOTION, LONG, PLACE, COME, VALUE, INFINITE, PAST, DAY, EQUAL, FUTURE, MONEY \n",
      "\n",
      "(10, 48872)\n"
     ]
    }
   ],
   "source": [
    "docs = df['clean_text']\n",
    "vectorizer = TfidfVectorizer(stop_words='english', max_df=0.8, min_df=2)\n",
    "topic_modeler = NMF(10, random_state=10, max_iter=1000) \n",
    "\n",
    "make_topics(docs, vectorizer, topic_modeler)"
   ]
  },
  {
   "cell_type": "markdown",
   "id": "170e983b",
   "metadata": {},
   "source": [
    "### NMF modeler and CountVectorizer:"
   ]
  },
  {
   "cell_type": "code",
   "execution_count": 13,
   "id": "2f8fe8ab",
   "metadata": {},
   "outputs": [
    {
     "name": "stdout",
     "output_type": "stream",
     "text": [
      "Topic 0:\n",
      " REASON, WAY, OBJECT, FORM, BODY, SENSE, IDEA, KNOWLEDGE, SELF, CONCEPT, POSSIBLE, THOUGHT, GENERAL, IDEAS, CERTAIN \n",
      "\n",
      "Topic 1:\n",
      " MAN, WOMAN, LIFE, LIKE, MEN, ANIMAL, GOD, WHITE, GREAT, JUST, SAID, ANIMALS, LOVE, YOUNG, PROPERTY \n",
      "\n",
      "Topic 2:\n",
      " THINGS, DIFFERENT, IDEAS, KNOW, GOD, SAID, MIND, COME, MOTION, EXIST, KNOWLEDGE, KIND, WAY, THINK, LIKE \n",
      "\n",
      "Topic 3:\n",
      " TIME, SPACE, PRESENT, MOTION, PLACE, LONG, PAST, INFINITE, EXISTENCE, GIVEN, FUTURE, COME, PERIOD, EQUAL, MOVEMENT \n",
      "\n",
      "Topic 4:\n",
      " DOES, KNOW, BELONG, MEAN, EXIST, FACT, FOLLOW, BELONGS, MAKE, COME, CASE, QUESTION, HOLD, TRUE, JUST \n",
      "\n",
      "Topic 5:\n",
      " WORLD, LIFE, POSSIBLE, ACTUAL, BEINGS, CONSCIOUSNESS, SENSE, SURROUNDING, HUMAN, EXISTENCE, OBJECTIVE, EXPERIENCE, DASEIN, SELF, MEANING \n",
      "\n",
      "Topic 6:\n",
      " NATURE, LAWS, HUMAN, NATURAL, LAW, POWER, GOD, ORDER, PRINCIPLE, ACCORDING, END, CAUSE, STATE, JUDGEMENT, FREEDOM \n",
      "\n",
      "Topic 7:\n",
      " VALUE, LABOUR, POWER, CAPITAL, MONEY, QUANTITY, PRICE, PRODUCTION, PRODUCE, DIFFERENT, GREATER, GREAT, SURPLUS, MEANS, COMMODITIES \n",
      "\n",
      "Topic 8:\n",
      " GOOD, MEN, BAD, EVIL, PEOPLE, PLEASURE, GOD, LOVE, MAKE, STATE, GREATER, JUST, LIFE, THINK, GREAT \n",
      "\n",
      "Topic 9:\n",
      " THING, SAY, TRUE, KNOW, LIKE, SAID, CASE, DIFFERENT, THINK, MOTION, KIND, JUST, PEOPLE, MEAN, QUESTION \n",
      "\n",
      "(10, 48872)\n"
     ]
    }
   ],
   "source": [
    "docs = df['clean_text']\n",
    "vectorizer = CountVectorizer(stop_words='english', max_df=0.8, min_df=2)\n",
    "topic_modeler = NMF(10, random_state=10, max_iter=1000)  \n",
    "\n",
    "make_topics(docs, vectorizer, topic_modeler, print_n_words=15)"
   ]
  },
  {
   "cell_type": "markdown",
   "id": "d7f4b5c4",
   "metadata": {},
   "source": [
    "### LSA (Truncated SVD) modeler and TFIDFVectorizer:"
   ]
  },
  {
   "cell_type": "code",
   "execution_count": 14,
   "id": "1c739c04",
   "metadata": {},
   "outputs": [
    {
     "name": "stdout",
     "output_type": "stream",
     "text": [
      "Topic 0:\n",
      " THINGS, SAY, DOES, THING, MAN, TIME, NATURE, WAY, TRUE, GOOD, WORLD, KNOW, REASON, SAID, THINK \n",
      "\n",
      "Topic 1:\n",
      " SAY, KNOW, THINK, TRUE, SAID, DON, SOCRATES, LIKE, LET, MEAN, PEOPLE, SHALL, LL, YES, RIGHT \n",
      "\n",
      "Topic 2:\n",
      " THINGS, GOOD, SAID, KNOW, GOD, DIFFERENT, IDEAS, NATURE, BAD, MEN, LIKE, THINK, MOTION, COME, DON \n",
      "\n",
      "Topic 3:\n",
      " DOES, MAN, KNOW, GOOD, SAID, THINK, MEAN, TRUE, GOD, DON, BAD, WOMAN, SOCRATES, LOVE, JUST \n",
      "\n",
      "Topic 4:\n",
      " DOES, THINGS, WORLD, KNOW, MEAN, SAY, CONSCIOUSNESS, WAY, TRUTH, BELONG, EXIST, KNOWLEDGE, FACT, FOLLOW, SELF \n",
      "\n",
      "Topic 5:\n",
      " THING, DOES, KNOW, SAID, TIME, WAY, MEAN, DIFFERENT, THINGS, QUESTION, EXIST, KNOWLEDGE, BELONG, DON, CONSCIOUSNESS \n",
      "\n",
      "Topic 6:\n",
      " TRUE, KNOW, SAID, THINK, FALSE, REASON, CASE, TRUTH, WORLD, IDEAS, KNOWLEDGE, CONSCIOUSNESS, DON, PROPOSITION, IDEA \n",
      "\n",
      "Topic 7:\n",
      " SAID, TIME, THINK, KNOW, CASE, JUST, DON, SOCRATES, LET, RIGHT, POINT, DIFFERENT, SPACE, LIKE, MOTION \n",
      "\n",
      "Topic 8:\n",
      " KNOW, MAN, THINK, KNOWLEDGE, NATURE, DON, GOD, WORLD, OBJECT, IDEA, CASE, MIND, DIFFERENT, EXPERIENCE, MEANS \n",
      "\n",
      "Topic 9:\n",
      " THINK, NATURE, GOOD, DOES, OBJECT, CASE, DIFFERENT, MIND, WAY, IDEA, CONCEPT, REASON, RIGHT, TRUTH, KNOWLEDGE \n",
      "\n",
      "(10, 48872)\n"
     ]
    }
   ],
   "source": [
    "docs = df['clean_text']\n",
    "vectorizer = TfidfVectorizer(stop_words='english', max_df=0.8, min_df=2)\n",
    "topic_modeler = TruncatedSVD(10, random_state=10)  \n",
    "make_topics(docs, vectorizer, topic_modeler, print_n_words=15)"
   ]
  },
  {
   "cell_type": "markdown",
   "id": "b1e8a0fc",
   "metadata": {},
   "source": [
    "### LSA (Truncated SVD) modeler and CountVectorizer:"
   ]
  },
  {
   "cell_type": "code",
   "execution_count": 15,
   "id": "a1b84e7f",
   "metadata": {},
   "outputs": [
    {
     "name": "stdout",
     "output_type": "stream",
     "text": [
      "Topic 0:\n",
      " THINGS, MAN, TIME, DOES, NATURE, WORLD, REASON, WAY, THING, SAY, GOOD, OBJECT, SENSE, BODY, FORM \n",
      "\n",
      "Topic 1:\n",
      " MAN, GOOD, WOMAN, DOES, MEN, GOD, ANIMAL, WHITE, LIKE, LOVE, BAD, LIFE, SAY, YOUNG, PLEASURE \n",
      "\n",
      "Topic 2:\n",
      " THINGS, GOOD, GOD, IDEAS, NATURE, KNOW, SAID, SAY, MEN, BAD, MIND, EXIST, DIFFERENT, COME, NAMES \n",
      "\n",
      "Topic 3:\n",
      " TIME, THINGS, MAN, LABOUR, MOTION, SPACE, VALUE, PRESENT, LONG, MONEY, PLACE, SAY, EQUAL, QUANTITY, PRICE \n",
      "\n",
      "Topic 4:\n",
      " DOES, SAY, THINGS, KNOW, WAY, THING, BELONG, MEAN, EXIST, GOOD, VALUE, TIME, MAKE, BODY, FOLLOW \n",
      "\n",
      "Topic 5:\n",
      " WORLD, DOES, THINGS, MAN, LIFE, TIME, CONSCIOUSNESS, SELF, WAY, ACTUAL, SENSE, BEINGS, EXISTENCE, DASEIN, SURROUNDING \n",
      "\n",
      "Topic 6:\n",
      " NATURE, REASON, TIME, DOES, MAN, THINGS, CONCEPT, LAWS, PURE, HUMAN, EXISTENCE, LAW, SELF, PRINCIPLE, NATURAL \n",
      "\n",
      "Topic 7:\n",
      " VALUE, LABOUR, POWER, CAPITAL, MONEY, QUANTITY, PRICE, NATURE, DIFFERENT, PRODUCTION, PRODUCE, WORLD, FORM, SURPLUS, COMMODITIES \n",
      "\n",
      "Topic 8:\n",
      " GOOD, REASON, MEN, WORLD, TRUE, LABOUR, BAD, EVIL, VALUE, LIFE, POWER, PEOPLE, SENSE, DOES, GOD \n",
      "\n",
      "Topic 9:\n",
      " NATURE, THING, GOOD, SAY, WORLD, SAID, BODY, LIKE, DOES, JUST, BAD, TIME, MEN, EVIL, LAWS \n",
      "\n",
      "(10, 48872)\n"
     ]
    }
   ],
   "source": [
    "docs = df['clean_text']\n",
    "vectorizer = CountVectorizer(stop_words='english', max_df=0.8, min_df=2)\n",
    "topic_modeler = TruncatedSVD(10, random_state=10)  \n",
    "make_topics(docs, vectorizer, topic_modeler, print_n_words=15)"
   ]
  },
  {
   "cell_type": "markdown",
   "id": "053cc007",
   "metadata": {},
   "source": [
    "### The topic models are OK but still have a lot of capacity to improve. A costume stop-word list would be defined and appended to the default stop word list of SKLearn:"
   ]
  },
  {
   "cell_type": "code",
   "execution_count": 16,
   "id": "510cbf72",
   "metadata": {},
   "outputs": [
    {
     "data": {
      "text/plain": [
       "384"
      ]
     },
     "execution_count": 16,
     "metadata": {},
     "output_type": "execute_result"
    }
   ],
   "source": [
    "stop_words = list(text.ENGLISH_STOP_WORDS)\n",
    "new_stop_words = ['know', 'knows', 'knowledge', 'possible', 'life', 'like', 'men', 'god', 'great', 'greater', 'just',\n",
    "                  'said', 'thing', 'things', 'different', 'time', 'motion', 'exist', 'existence','long',\n",
    "                  'past', 'given', 'future', 'period', 'does', 'belong', 'mean', 'fact', 'belongs',\n",
    "                  'follow', 'following', 'case', 'come', 'make', 'makes' 'hold', 'true', 'actual', 'world', 'surrounding',\n",
    "                  'human', 'meaning', 'power', 'according', 'end', 'state', 'people', 'say', 'question',\n",
    "                  'ideas', 'women', 'animals', 'law', 'principles', 'principle', 'contarary', 'cuases',\n",
    "                  'merely', 'concepts', 'comes', 'act', 'use', 'objects', 'senses', 'called', 'determinations',\n",
    "                  'sentence']\n",
    "\n",
    "for i in new_stop_words:\n",
    "    stop_words.append(i)\n",
    "\n",
    "len(stop_words)"
   ]
  },
  {
   "cell_type": "markdown",
   "id": "d1b3683e",
   "metadata": {},
   "source": [
    "### Now the rerun using the costume stop-word list: "
   ]
  },
  {
   "cell_type": "markdown",
   "id": "4d5d64d6",
   "metadata": {},
   "source": [
    "### NMF modeler and TFIDFVectorizer:"
   ]
  },
  {
   "cell_type": "code",
   "execution_count": 17,
   "id": "0dc85484",
   "metadata": {},
   "outputs": [
    {
     "name": "stdout",
     "output_type": "stream",
     "text": [
      "Topic 0:\n",
      " OBJECT, CONSCIOUSNESS, SELF, FORM, CONCEPT, TRUTH, THOUGHT, RELATION, SUBJECT, GENERAL, PRESENT, EXPERIENCE, MATTER, ESSENCE, POINT \n",
      "\n",
      "Topic 1:\n",
      " MAN, WOMAN, ANIMAL, WHITE, LOVE, RIGHT, YOUNG, PROPERTY, WISE, BETTER, KIND, HORSE, MAKES, DID, CERTAIN \n",
      "\n",
      "Topic 2:\n",
      " THINK, DON, SOCRATES, RIGHT, DID, CERTAINLY, ANSWER, REALLY, UNDERSTAND, TELL, THOUGHT, LL, BELIEVE, SAYING, YES \n",
      "\n",
      "Topic 3:\n",
      " GOOD, BAD, EVIL, PLEASURE, LOVE, PAIN, PLEASANT, FRIEND, DESIRE, VIRTUE, RIGHT, FORTUNE, FRIENDS, HIGHEST, EXCELLENCE \n",
      "\n",
      "Topic 4:\n",
      " WAY, LET, RIGHT, CERTAIN, LOOK, SOCRATES, KIND, DASEIN, BEST, ANSWER, BETTER, LL, THINKING, UNDERSTAND, SHALL \n",
      "\n",
      "Topic 5:\n",
      " NATURE, LAWS, CAUSE, NATURAL, ORDER, CONTRARY, ART, CAUSES, BODIES, FREEDOM, FAR, PURPOSIVENESS, BEINGS, JUDGEMENT, NECESSITY \n",
      "\n",
      "Topic 6:\n",
      " VALUE, LABOUR, MONEY, PRICE, CAPITAL, QUANTITY, MEANS, PRODUCTION, PRODUCE, COMMODITIES, NECESSARY, SURPLUS, COMMODITY, WAGES, DAY \n",
      "\n",
      "Topic 7:\n",
      " REASON, PURE, PRACTICAL, CRITIQUE, RIGHT, UNDERSTANDING, MADNESS, BELIEVE, SPECULATIVE, PRIORI, EXPERIENCE, MORAL, REGARD, CONTRARY, COGNITION \n",
      "\n",
      "Topic 8:\n",
      " BODY, MIND, IDEA, SOUL, LET, PARTS, PLACE, BODIES, CERTAIN, CAUSE, CLEAR, INFINITE, REST, MOVEMENT, FAR \n",
      "\n",
      "Topic 9:\n",
      " SENSE, COMMON, WORD, CERTAIN, PERCEPTION, PROPOSITION, DATA, MAKES, TERM, WORDS, USED, THEORY, UNDERSTAND, LANGUAGE, UNDERSTOOD \n",
      "\n",
      "(10, 48809)\n"
     ]
    }
   ],
   "source": [
    "docs = df['clean_text']\n",
    "vectorizer = TfidfVectorizer(stop_words=stop_words, max_df=0.8, min_df=2)\n",
    "topic_modeler = NMF(10, random_state=10, max_iter=1000) \n",
    "\n",
    "make_topics(docs, vectorizer, topic_modeler)"
   ]
  },
  {
   "cell_type": "markdown",
   "id": "1184f8a4",
   "metadata": {},
   "source": [
    "### NMF modeler and CountVectorizer:"
   ]
  },
  {
   "cell_type": "code",
   "execution_count": 18,
   "id": "bfb4fb85",
   "metadata": {},
   "outputs": [
    {
     "name": "stdout",
     "output_type": "stream",
     "text": [
      "Topic 0:\n",
      " FORM, SELF, CONSCIOUSNESS, THOUGHT, GENERAL, CONCEPT, IDEA, TRUTH, RELATION, PRESENT, MATTER, ORDER, PARTICULAR, SUBJECT, CERTAIN \n",
      "\n",
      "Topic 1:\n",
      " MAN, WOMAN, ANIMAL, WHITE, LOVE, PROPERTY, RIGHT, YOUNG, THINK, MAKES, HAVING, CERTAIN, BETTER, PERSON, INDIVIDUAL \n",
      "\n",
      "Topic 2:\n",
      " NATURE, LAWS, NATURAL, ORDER, CAUSE, JUDGEMENT, FAR, FREEDOM, ART, CAUSES, ENDS, CONTRARY, PURPOSIVENESS, BODIES, UNDERSTANDING \n",
      "\n",
      "Topic 3:\n",
      " GOOD, BAD, EVIL, PLEASURE, LOVE, THINK, DESIRE, PLEASANT, RIGHT, VIRTUE, PAIN, MORAL, KIND, BETTER, SOUL \n",
      "\n",
      "Topic 4:\n",
      " VALUE, LABOUR, CAPITAL, MONEY, QUANTITY, PRICE, PRODUCTION, PRODUCE, MEANS, SURPLUS, COMMODITIES, NECESSARY, WAGES, COUNTRY, COMMODITY \n",
      "\n",
      "Topic 5:\n",
      " REASON, PURE, PRACTICAL, UNDERSTANDING, EXPERIENCE, MADNESS, CRITIQUE, MORAL, PRIORI, SPECULATIVE, COGNITION, REGARD, THINK, FREEDOM, CAUSE \n",
      "\n",
      "Topic 6:\n",
      " WAY, CERTAIN, RIGHT, THINK, KIND, THINKING, NEW, LET, SHALL, BEST, DASEIN, PARTS, WORK, POINT, ABLE \n",
      "\n",
      "Topic 7:\n",
      " BODY, SOUL, MIND, PARTS, BODIES, PLACE, IDEA, CERTAIN, MOVEMENT, SPACE, REST, WATER, HEAT, ORGANS, AIR \n",
      "\n",
      "Topic 8:\n",
      " OBJECT, CONCEPT, SUBJECT, EXPERIENCE, RELATION, CONSCIOUSNESS, REPRESENTATION, PERCEPTION, INTUITION, JUDGEMENT, COGNITION, UNDERSTANDING, PLEASURE, DESIRE, MEANS \n",
      "\n",
      "Topic 9:\n",
      " SENSE, COMMON, CERTAIN, WORD, PERCEPTION, DATA, SCIENCE, THINK, NATURAL, EXPERIENCE, TERM, KIND, WORDS, THEORY, MAKES \n",
      "\n",
      "(10, 48809)\n"
     ]
    }
   ],
   "source": [
    "docs = df['clean_text']\n",
    "vectorizer = CountVectorizer(stop_words=stop_words, max_df=0.8, min_df=2)\n",
    "topic_modeler = NMF(10, random_state=10, max_iter=1000)  \n",
    "\n",
    "make_topics(docs, vectorizer, topic_modeler, print_n_words=15)"
   ]
  },
  {
   "cell_type": "markdown",
   "id": "028a9cbe",
   "metadata": {},
   "source": [
    "### LSA (Truncated SVD) modeler and TFIDFVectorizer:"
   ]
  },
  {
   "cell_type": "code",
   "execution_count": 19,
   "id": "76bb7a72",
   "metadata": {},
   "outputs": [
    {
     "name": "stdout",
     "output_type": "stream",
     "text": [
      "Topic 0:\n",
      " MAN, NATURE, WAY, GOOD, REASON, THINK, OBJECT, SENSE, BODY, FORM, IDEA, THOUGHT, TRUTH, SELF, MIND \n",
      "\n",
      "Topic 1:\n",
      " MAN, GOOD, THINK, BAD, WOMAN, EVIL, PLEASURE, SOCRATES, LOVE, RIGHT, ANIMAL, DON, FRIEND, WHITE, WISE \n",
      "\n",
      "Topic 2:\n",
      " THINK, WAY, DON, SOCRATES, RIGHT, CERTAINLY, DID, THOUGHT, ANSWER, LET, TELL, REALLY, UNDERSTAND, LL, YES \n",
      "\n",
      "Topic 3:\n",
      " GOOD, BAD, REASON, EVIL, PLEASURE, SENSE, OBJECT, LOVE, MEANS, PURE, CONCEPT, PLEASANT, PAIN, HIGHEST, CAUSE \n",
      "\n",
      "Topic 4:\n",
      " WAY, LET, GOOD, POINT, LOOK, RIGHT, DASEIN, MIND, BEST, LL, BAD, DID, SOCRATES, WORD, ISN \n",
      "\n",
      "Topic 5:\n",
      " NATURE, REASON, BODY, WAY, MATTER, LAWS, SOUL, MIND, THINK, CAUSE, SHALL, SOCRATES, RIGHT, BODIES, PARTS \n",
      "\n",
      "Topic 6:\n",
      " REASON, SELF, CONSCIOUSNESS, OBJECT, PURE, MAN, WAY, SENSE, CONCEPT, TRUTH, THOUGHT, UNDERSTANDING, ESSENCE, EXPERIENCE, PRACTICAL \n",
      "\n",
      "Topic 7:\n",
      " SENSE, BODY, IDEA, NATURE, SOUL, MIND, OBJECT, CAUSE, LET, MATTER, SUBJECT, WORD, SOCRATES, WORDS, CERTAIN \n",
      "\n",
      "Topic 8:\n",
      " REASON, LET, SENSE, BODY, POINT, SOUL, SHALL, PARTS, EXPERIENCE, RIGHT, SUPPOSE, MATTER, DIFFERENCE, VALUE, CONSIDER \n",
      "\n",
      "Topic 9:\n",
      " BODY, IDEA, SOUL, OBJECT, MIND, LET, SELF, SUBJECT, CONSCIOUSNESS, PARTS, PLACE, BODIES, MOVEMENT, SUBSTANCE, LOVE \n",
      "\n",
      "(10, 48809)\n"
     ]
    }
   ],
   "source": [
    "docs = df['clean_text']\n",
    "vectorizer = TfidfVectorizer(stop_words=stop_words, max_df=0.8, min_df=2)\n",
    "topic_modeler = TruncatedSVD(10, random_state=10)  \n",
    "make_topics(docs, vectorizer, topic_modeler, print_n_words=15)"
   ]
  },
  {
   "cell_type": "markdown",
   "id": "d60115a5",
   "metadata": {},
   "source": [
    "### LSA (Truncated SVD) modeler and CountVectorizer:"
   ]
  },
  {
   "cell_type": "code",
   "execution_count": 20,
   "id": "d2e13f8a",
   "metadata": {},
   "outputs": [
    {
     "name": "stdout",
     "output_type": "stream",
     "text": [
      "Topic 0:\n",
      " MAN, NATURE, REASON, WAY, GOOD, OBJECT, FORM, BODY, SENSE, IDEA, CERTAIN, SELF, GENERAL, ORDER, THOUGHT \n",
      "\n",
      "Topic 1:\n",
      " MAN, GOOD, WOMAN, ANIMAL, WHITE, BAD, YOUNG, WISE, FRIEND, LOVE, HORSE, FATHER, EXCELLENCE, INCONTINENT, UNJUST \n",
      "\n",
      "Topic 2:\n",
      " NATURE, REASON, LAWS, PURE, JUDGEMENT, PRACTICAL, GOOD, FREEDOM, UNDERSTANDING, NATURAL, PURPOSIVENESS, ENDS, CAUSALITY, CAUSE, MORAL \n",
      "\n",
      "Topic 3:\n",
      " GOOD, REASON, OBJECT, BAD, SENSE, EVIL, PURE, PLEASURE, WAY, THINK, PRACTICAL, LOVE, SELF, IDEA, MORAL \n",
      "\n",
      "Topic 4:\n",
      " GOOD, VALUE, NATURE, LABOUR, CAPITAL, MONEY, PRICE, QUANTITY, BAD, PRODUCE, PRODUCTION, EVIL, COMMODITIES, SURPLUS, MEANS \n",
      "\n",
      "Topic 5:\n",
      " REASON, VALUE, LABOUR, PURE, FORM, MONEY, CAPITAL, PRICE, QUANTITY, MAN, PRODUCTION, MEANS, COMMODITIES, SURPLUS, PRODUCE \n",
      "\n",
      "Topic 6:\n",
      " WAY, REASON, VALUE, LABOUR, NATURE, MONEY, CAPITAL, PRICE, QUANTITY, POINT, PRACTICAL, NECESSARY, PRODUCTION, PRODUCE, SURPLUS \n",
      "\n",
      "Topic 7:\n",
      " BODY, REASON, SOUL, MIND, PARTS, IDEA, BODIES, PLACE, LABOUR, VALUE, THINK, CERTAIN, SPACE, WATER, HEAT \n",
      "\n",
      "Topic 8:\n",
      " FORM, SELF, CONSCIOUSNESS, BODY, TRUTH, CONTENT, UNIVERSAL, ABSOLUTE, PURE, ESSENCE, THOUGHT, GOOD, UNITY, DIFFERENCE, SPIRIT \n",
      "\n",
      "Topic 9:\n",
      " SENSE, CERTAIN, TRUTH, ORDER, THOUGHT, COMMON, WORD, POINT, THINK, LANGUAGE, MATTER, WORDS, KIND, EXPERIENCE, MEANS \n",
      "\n",
      "(10, 48809)\n"
     ]
    }
   ],
   "source": [
    "docs = df['clean_text']\n",
    "vectorizer = CountVectorizer(stop_words=stop_words, max_df=0.8, min_df=2)\n",
    "topic_modeler = TruncatedSVD(10, random_state=10)  \n",
    "make_topics(docs, vectorizer, topic_modeler, print_n_words=15)"
   ]
  },
  {
   "cell_type": "markdown",
   "id": "513f7374",
   "metadata": {},
   "source": [
    "### Better results and cleaner topics with the costume stop-word list. NMF and CountVectorizer had the best topic modeling performance so they were chosen as final models: "
   ]
  },
  {
   "cell_type": "code",
   "execution_count": 21,
   "id": "68627027",
   "metadata": {},
   "outputs": [
    {
     "data": {
      "text/plain": [
       "(358596, 10)"
      ]
     },
     "execution_count": 21,
     "metadata": {},
     "output_type": "execute_result"
    }
   ],
   "source": [
    "# Final fitting for PCA extraction\n",
    "\n",
    "docs = df['clean_text']\n",
    "\n",
    "vectorizer = CountVectorizer(stop_words=stop_words, max_df=0.8, min_df=2)\n",
    "word_doc_matrix = vectorizer.fit_transform(docs)\n",
    "    \n",
    "\n",
    "topic_modeler = NMF(10, random_state=10, max_iter=1000)\n",
    "doc_topic_pca = topic_modeler.fit_transform(word_doc_matrix)\n",
    "doc_topic_pca.shape"
   ]
  },
  {
   "cell_type": "code",
   "execution_count": 22,
   "id": "6cf09410",
   "metadata": {},
   "outputs": [],
   "source": [
    "# PCA dataframe\n",
    "\n",
    "df_pca = pd.DataFrame(data=doc_topic_pca, columns=['Topic0', 'Topic1', 'Topic2',\n",
    "                                                   'Topic3', 'Topic4', 'Topic5', \n",
    "                                                   'Topic6', 'Topic7', 'Topic8',\n",
    "                                                   'Topic9'])"
   ]
  },
  {
   "cell_type": "code",
   "execution_count": 23,
   "id": "851c1328",
   "metadata": {},
   "outputs": [],
   "source": [
    "# Title and author columns would be concatenated to the PCA DF\n",
    "\n",
    "df_pca[['title', 'author']] = df[['title', 'author']]"
   ]
  },
  {
   "cell_type": "code",
   "execution_count": 24,
   "id": "cf803abf",
   "metadata": {},
   "outputs": [
    {
     "data": {
      "text/html": [
       "<div>\n",
       "<style scoped>\n",
       "    .dataframe tbody tr th:only-of-type {\n",
       "        vertical-align: middle;\n",
       "    }\n",
       "\n",
       "    .dataframe tbody tr th {\n",
       "        vertical-align: top;\n",
       "    }\n",
       "\n",
       "    .dataframe thead th {\n",
       "        text-align: right;\n",
       "    }\n",
       "</style>\n",
       "<table border=\"1\" class=\"dataframe\">\n",
       "  <thead>\n",
       "    <tr style=\"text-align: right;\">\n",
       "      <th></th>\n",
       "      <th>Topic0</th>\n",
       "      <th>Topic1</th>\n",
       "      <th>Topic2</th>\n",
       "      <th>Topic3</th>\n",
       "      <th>Topic4</th>\n",
       "      <th>Topic5</th>\n",
       "      <th>Topic6</th>\n",
       "      <th>Topic7</th>\n",
       "      <th>Topic8</th>\n",
       "      <th>Topic9</th>\n",
       "      <th>title</th>\n",
       "      <th>author</th>\n",
       "    </tr>\n",
       "  </thead>\n",
       "  <tbody>\n",
       "    <tr>\n",
       "      <th>0</th>\n",
       "      <td>0.003707</td>\n",
       "      <td>0.001698</td>\n",
       "      <td>0.000000e+00</td>\n",
       "      <td>0.000619</td>\n",
       "      <td>0.004301</td>\n",
       "      <td>0.000183</td>\n",
       "      <td>0.003004</td>\n",
       "      <td>0.000257</td>\n",
       "      <td>0.0</td>\n",
       "      <td>0.001030</td>\n",
       "      <td>Plato - Complete Works</td>\n",
       "      <td>Plato</td>\n",
       "    </tr>\n",
       "    <tr>\n",
       "      <th>1</th>\n",
       "      <td>0.000378</td>\n",
       "      <td>0.000579</td>\n",
       "      <td>6.171336e-07</td>\n",
       "      <td>0.000432</td>\n",
       "      <td>0.000181</td>\n",
       "      <td>0.000202</td>\n",
       "      <td>0.000350</td>\n",
       "      <td>0.000125</td>\n",
       "      <td>0.0</td>\n",
       "      <td>0.000149</td>\n",
       "      <td>Plato - Complete Works</td>\n",
       "      <td>Plato</td>\n",
       "    </tr>\n",
       "    <tr>\n",
       "      <th>2</th>\n",
       "      <td>0.000034</td>\n",
       "      <td>0.000041</td>\n",
       "      <td>2.687159e-05</td>\n",
       "      <td>0.000085</td>\n",
       "      <td>0.000007</td>\n",
       "      <td>0.000004</td>\n",
       "      <td>0.000068</td>\n",
       "      <td>0.000000</td>\n",
       "      <td>0.0</td>\n",
       "      <td>0.000000</td>\n",
       "      <td>Plato - Complete Works</td>\n",
       "      <td>Plato</td>\n",
       "    </tr>\n",
       "    <tr>\n",
       "      <th>3</th>\n",
       "      <td>0.000000</td>\n",
       "      <td>0.000000</td>\n",
       "      <td>0.000000e+00</td>\n",
       "      <td>0.000000</td>\n",
       "      <td>0.000000</td>\n",
       "      <td>0.000000</td>\n",
       "      <td>0.000000</td>\n",
       "      <td>0.000000</td>\n",
       "      <td>0.0</td>\n",
       "      <td>0.000000</td>\n",
       "      <td>Plato - Complete Works</td>\n",
       "      <td>Plato</td>\n",
       "    </tr>\n",
       "    <tr>\n",
       "      <th>4</th>\n",
       "      <td>0.000671</td>\n",
       "      <td>0.000499</td>\n",
       "      <td>6.067165e-05</td>\n",
       "      <td>0.000536</td>\n",
       "      <td>0.000071</td>\n",
       "      <td>0.000200</td>\n",
       "      <td>0.000789</td>\n",
       "      <td>0.000249</td>\n",
       "      <td>0.0</td>\n",
       "      <td>0.000046</td>\n",
       "      <td>Plato - Complete Works</td>\n",
       "      <td>Plato</td>\n",
       "    </tr>\n",
       "  </tbody>\n",
       "</table>\n",
       "</div>"
      ],
      "text/plain": [
       "     Topic0    Topic1        Topic2    Topic3    Topic4    Topic5    Topic6  \\\n",
       "0  0.003707  0.001698  0.000000e+00  0.000619  0.004301  0.000183  0.003004   \n",
       "1  0.000378  0.000579  6.171336e-07  0.000432  0.000181  0.000202  0.000350   \n",
       "2  0.000034  0.000041  2.687159e-05  0.000085  0.000007  0.000004  0.000068   \n",
       "3  0.000000  0.000000  0.000000e+00  0.000000  0.000000  0.000000  0.000000   \n",
       "4  0.000671  0.000499  6.067165e-05  0.000536  0.000071  0.000200  0.000789   \n",
       "\n",
       "     Topic7  Topic8    Topic9                   title author  \n",
       "0  0.000257     0.0  0.001030  Plato - Complete Works  Plato  \n",
       "1  0.000125     0.0  0.000149  Plato - Complete Works  Plato  \n",
       "2  0.000000     0.0  0.000000  Plato - Complete Works  Plato  \n",
       "3  0.000000     0.0  0.000000  Plato - Complete Works  Plato  \n",
       "4  0.000249     0.0  0.000046  Plato - Complete Works  Plato  "
      ]
     },
     "execution_count": 24,
     "metadata": {},
     "output_type": "execute_result"
    }
   ],
   "source": [
    "df_pca.head()"
   ]
  },
  {
   "cell_type": "markdown",
   "id": "d8ede3f0",
   "metadata": {},
   "source": [
    "### Now using this new PCA dataframe, topic evaluation and interpretation would be performed based on two criterias:  "
   ]
  },
  {
   "cell_type": "markdown",
   "id": "1f7fb2a7",
   "metadata": {},
   "source": [
    "### 1) The average of each PC values for each author would be calculated as follow:  "
   ]
  },
  {
   "cell_type": "code",
   "execution_count": 25,
   "id": "9fa82c3e",
   "metadata": {},
   "outputs": [
    {
     "data": {
      "text/html": [
       "<div>\n",
       "<style scoped>\n",
       "    .dataframe tbody tr th:only-of-type {\n",
       "        vertical-align: middle;\n",
       "    }\n",
       "\n",
       "    .dataframe tbody tr th {\n",
       "        vertical-align: top;\n",
       "    }\n",
       "\n",
       "    .dataframe thead th {\n",
       "        text-align: right;\n",
       "    }\n",
       "</style>\n",
       "<table border=\"1\" class=\"dataframe\">\n",
       "  <thead>\n",
       "    <tr style=\"text-align: right;\">\n",
       "      <th></th>\n",
       "      <th>Topic0</th>\n",
       "      <th>Topic1</th>\n",
       "      <th>Topic2</th>\n",
       "      <th>Topic3</th>\n",
       "      <th>Topic4</th>\n",
       "      <th>Topic5</th>\n",
       "      <th>Topic6</th>\n",
       "      <th>Topic7</th>\n",
       "      <th>Topic8</th>\n",
       "      <th>Topic9</th>\n",
       "    </tr>\n",
       "    <tr>\n",
       "      <th>author</th>\n",
       "      <th></th>\n",
       "      <th></th>\n",
       "      <th></th>\n",
       "      <th></th>\n",
       "      <th></th>\n",
       "      <th></th>\n",
       "      <th></th>\n",
       "      <th></th>\n",
       "      <th></th>\n",
       "      <th></th>\n",
       "    </tr>\n",
       "  </thead>\n",
       "  <tbody>\n",
       "    <tr>\n",
       "      <th>Aristotle</th>\n",
       "      <td>0.004921</td>\n",
       "      <td>0.008412</td>\n",
       "      <td>0.004826</td>\n",
       "      <td>0.005092</td>\n",
       "      <td>0.002067</td>\n",
       "      <td>0.003481</td>\n",
       "      <td>0.005053</td>\n",
       "      <td>0.007070</td>\n",
       "      <td>0.002229</td>\n",
       "      <td>0.004384</td>\n",
       "    </tr>\n",
       "    <tr>\n",
       "      <th>Beauvoir</th>\n",
       "      <td>0.004016</td>\n",
       "      <td>0.012556</td>\n",
       "      <td>0.002008</td>\n",
       "      <td>0.001899</td>\n",
       "      <td>0.001984</td>\n",
       "      <td>0.001116</td>\n",
       "      <td>0.003072</td>\n",
       "      <td>0.004109</td>\n",
       "      <td>0.002507</td>\n",
       "      <td>0.001071</td>\n",
       "    </tr>\n",
       "    <tr>\n",
       "      <th>Berkeley</th>\n",
       "      <td>0.006885</td>\n",
       "      <td>0.002858</td>\n",
       "      <td>0.006096</td>\n",
       "      <td>0.001579</td>\n",
       "      <td>0.001265</td>\n",
       "      <td>0.003841</td>\n",
       "      <td>0.002338</td>\n",
       "      <td>0.006841</td>\n",
       "      <td>0.003556</td>\n",
       "      <td>0.011157</td>\n",
       "    </tr>\n",
       "    <tr>\n",
       "      <th>Davis</th>\n",
       "      <td>0.003380</td>\n",
       "      <td>0.004496</td>\n",
       "      <td>0.000924</td>\n",
       "      <td>0.000973</td>\n",
       "      <td>0.002693</td>\n",
       "      <td>0.000840</td>\n",
       "      <td>0.001957</td>\n",
       "      <td>0.001406</td>\n",
       "      <td>0.000307</td>\n",
       "      <td>0.000922</td>\n",
       "    </tr>\n",
       "    <tr>\n",
       "      <th>Deleuze</th>\n",
       "      <td>0.008916</td>\n",
       "      <td>0.002159</td>\n",
       "      <td>0.003814</td>\n",
       "      <td>0.001278</td>\n",
       "      <td>0.003893</td>\n",
       "      <td>0.001767</td>\n",
       "      <td>0.003408</td>\n",
       "      <td>0.004495</td>\n",
       "      <td>0.005305</td>\n",
       "      <td>0.006078</td>\n",
       "    </tr>\n",
       "    <tr>\n",
       "      <th>Derrida</th>\n",
       "      <td>0.007893</td>\n",
       "      <td>0.002491</td>\n",
       "      <td>0.001468</td>\n",
       "      <td>0.000619</td>\n",
       "      <td>0.001420</td>\n",
       "      <td>0.002900</td>\n",
       "      <td>0.002852</td>\n",
       "      <td>0.002976</td>\n",
       "      <td>0.002256</td>\n",
       "      <td>0.004905</td>\n",
       "    </tr>\n",
       "    <tr>\n",
       "      <th>Descartes</th>\n",
       "      <td>0.010605</td>\n",
       "      <td>0.002468</td>\n",
       "      <td>0.013194</td>\n",
       "      <td>0.003191</td>\n",
       "      <td>0.002178</td>\n",
       "      <td>0.007905</td>\n",
       "      <td>0.008961</td>\n",
       "      <td>0.015372</td>\n",
       "      <td>0.002536</td>\n",
       "      <td>0.005499</td>\n",
       "    </tr>\n",
       "    <tr>\n",
       "      <th>Epictetus</th>\n",
       "      <td>0.002461</td>\n",
       "      <td>0.005244</td>\n",
       "      <td>0.004543</td>\n",
       "      <td>0.004271</td>\n",
       "      <td>0.001836</td>\n",
       "      <td>0.002415</td>\n",
       "      <td>0.002299</td>\n",
       "      <td>0.003989</td>\n",
       "      <td>0.001113</td>\n",
       "      <td>0.000568</td>\n",
       "    </tr>\n",
       "    <tr>\n",
       "      <th>Fichte</th>\n",
       "      <td>0.009925</td>\n",
       "      <td>0.001032</td>\n",
       "      <td>0.008906</td>\n",
       "      <td>0.002666</td>\n",
       "      <td>0.001594</td>\n",
       "      <td>0.006407</td>\n",
       "      <td>0.006557</td>\n",
       "      <td>0.002909</td>\n",
       "      <td>0.006830</td>\n",
       "      <td>0.002450</td>\n",
       "    </tr>\n",
       "    <tr>\n",
       "      <th>Foucault</th>\n",
       "      <td>0.009519</td>\n",
       "      <td>0.006492</td>\n",
       "      <td>0.006628</td>\n",
       "      <td>0.001161</td>\n",
       "      <td>0.004113</td>\n",
       "      <td>0.004768</td>\n",
       "      <td>0.003761</td>\n",
       "      <td>0.004667</td>\n",
       "      <td>0.002947</td>\n",
       "      <td>0.003067</td>\n",
       "    </tr>\n",
       "    <tr>\n",
       "      <th>Hegel</th>\n",
       "      <td>0.017896</td>\n",
       "      <td>0.000790</td>\n",
       "      <td>0.005194</td>\n",
       "      <td>0.001824</td>\n",
       "      <td>0.001477</td>\n",
       "      <td>0.003501</td>\n",
       "      <td>0.003696</td>\n",
       "      <td>0.001302</td>\n",
       "      <td>0.006922</td>\n",
       "      <td>0.002616</td>\n",
       "    </tr>\n",
       "    <tr>\n",
       "      <th>Heidegger</th>\n",
       "      <td>0.007107</td>\n",
       "      <td>0.001902</td>\n",
       "      <td>0.002332</td>\n",
       "      <td>0.000491</td>\n",
       "      <td>0.001502</td>\n",
       "      <td>0.001127</td>\n",
       "      <td>0.007238</td>\n",
       "      <td>0.000702</td>\n",
       "      <td>0.002964</td>\n",
       "      <td>0.004434</td>\n",
       "    </tr>\n",
       "    <tr>\n",
       "      <th>Hume</th>\n",
       "      <td>0.009389</td>\n",
       "      <td>0.003720</td>\n",
       "      <td>0.007443</td>\n",
       "      <td>0.003358</td>\n",
       "      <td>0.002447</td>\n",
       "      <td>0.006440</td>\n",
       "      <td>0.002073</td>\n",
       "      <td>0.005664</td>\n",
       "      <td>0.011387</td>\n",
       "      <td>0.003583</td>\n",
       "    </tr>\n",
       "    <tr>\n",
       "      <th>Husserl</th>\n",
       "      <td>0.011665</td>\n",
       "      <td>0.002491</td>\n",
       "      <td>0.006026</td>\n",
       "      <td>0.000530</td>\n",
       "      <td>0.001404</td>\n",
       "      <td>0.003821</td>\n",
       "      <td>0.008652</td>\n",
       "      <td>0.003060</td>\n",
       "      <td>0.004611</td>\n",
       "      <td>0.013648</td>\n",
       "    </tr>\n",
       "    <tr>\n",
       "      <th>Kant</th>\n",
       "      <td>0.012180</td>\n",
       "      <td>0.001294</td>\n",
       "      <td>0.014558</td>\n",
       "      <td>0.003102</td>\n",
       "      <td>0.001359</td>\n",
       "      <td>0.019514</td>\n",
       "      <td>0.005166</td>\n",
       "      <td>0.002158</td>\n",
       "      <td>0.018896</td>\n",
       "      <td>0.005887</td>\n",
       "    </tr>\n",
       "    <tr>\n",
       "      <th>Keynes</th>\n",
       "      <td>0.005202</td>\n",
       "      <td>0.001628</td>\n",
       "      <td>0.001271</td>\n",
       "      <td>0.001706</td>\n",
       "      <td>0.022578</td>\n",
       "      <td>0.002080</td>\n",
       "      <td>0.003545</td>\n",
       "      <td>0.000947</td>\n",
       "      <td>0.001321</td>\n",
       "      <td>0.004694</td>\n",
       "    </tr>\n",
       "    <tr>\n",
       "      <th>Kripke</th>\n",
       "      <td>0.005299</td>\n",
       "      <td>0.002699</td>\n",
       "      <td>0.000608</td>\n",
       "      <td>0.000824</td>\n",
       "      <td>0.001537</td>\n",
       "      <td>0.000981</td>\n",
       "      <td>0.004090</td>\n",
       "      <td>0.001404</td>\n",
       "      <td>0.003575</td>\n",
       "      <td>0.006914</td>\n",
       "    </tr>\n",
       "    <tr>\n",
       "      <th>Leibniz</th>\n",
       "      <td>0.005196</td>\n",
       "      <td>0.005534</td>\n",
       "      <td>0.006044</td>\n",
       "      <td>0.008865</td>\n",
       "      <td>0.001528</td>\n",
       "      <td>0.008533</td>\n",
       "      <td>0.003060</td>\n",
       "      <td>0.004772</td>\n",
       "      <td>0.001736</td>\n",
       "      <td>0.003180</td>\n",
       "    </tr>\n",
       "    <tr>\n",
       "      <th>Lenin</th>\n",
       "      <td>0.006758</td>\n",
       "      <td>0.001016</td>\n",
       "      <td>0.001224</td>\n",
       "      <td>0.001030</td>\n",
       "      <td>0.006608</td>\n",
       "      <td>0.001277</td>\n",
       "      <td>0.003189</td>\n",
       "      <td>0.001411</td>\n",
       "      <td>0.000651</td>\n",
       "      <td>0.002398</td>\n",
       "    </tr>\n",
       "    <tr>\n",
       "      <th>Lewis</th>\n",
       "      <td>0.004647</td>\n",
       "      <td>0.000781</td>\n",
       "      <td>0.000983</td>\n",
       "      <td>0.001399</td>\n",
       "      <td>0.001438</td>\n",
       "      <td>0.001745</td>\n",
       "      <td>0.004686</td>\n",
       "      <td>0.001575</td>\n",
       "      <td>0.001154</td>\n",
       "      <td>0.003672</td>\n",
       "    </tr>\n",
       "    <tr>\n",
       "      <th>Locke</th>\n",
       "      <td>0.009828</td>\n",
       "      <td>0.011826</td>\n",
       "      <td>0.006309</td>\n",
       "      <td>0.003918</td>\n",
       "      <td>0.002396</td>\n",
       "      <td>0.006456</td>\n",
       "      <td>0.005063</td>\n",
       "      <td>0.011143</td>\n",
       "      <td>0.001413</td>\n",
       "      <td>0.003892</td>\n",
       "    </tr>\n",
       "    <tr>\n",
       "      <th>Malebranche</th>\n",
       "      <td>0.006540</td>\n",
       "      <td>0.004905</td>\n",
       "      <td>0.005118</td>\n",
       "      <td>0.005297</td>\n",
       "      <td>0.001573</td>\n",
       "      <td>0.005380</td>\n",
       "      <td>0.004869</td>\n",
       "      <td>0.014432</td>\n",
       "      <td>0.004037</td>\n",
       "      <td>0.003770</td>\n",
       "    </tr>\n",
       "    <tr>\n",
       "      <th>Marx</th>\n",
       "      <td>0.004365</td>\n",
       "      <td>0.002605</td>\n",
       "      <td>0.002094</td>\n",
       "      <td>0.000954</td>\n",
       "      <td>0.032165</td>\n",
       "      <td>0.000617</td>\n",
       "      <td>0.002031</td>\n",
       "      <td>0.001197</td>\n",
       "      <td>0.000838</td>\n",
       "      <td>0.000899</td>\n",
       "    </tr>\n",
       "    <tr>\n",
       "      <th>Merleau-Ponty</th>\n",
       "      <td>0.009678</td>\n",
       "      <td>0.002493</td>\n",
       "      <td>0.002312</td>\n",
       "      <td>0.000455</td>\n",
       "      <td>0.001643</td>\n",
       "      <td>0.001724</td>\n",
       "      <td>0.005347</td>\n",
       "      <td>0.013859</td>\n",
       "      <td>0.013663</td>\n",
       "      <td>0.005841</td>\n",
       "    </tr>\n",
       "    <tr>\n",
       "      <th>Moore</th>\n",
       "      <td>0.007843</td>\n",
       "      <td>0.003762</td>\n",
       "      <td>0.002262</td>\n",
       "      <td>0.003916</td>\n",
       "      <td>0.002541</td>\n",
       "      <td>0.010075</td>\n",
       "      <td>0.005245</td>\n",
       "      <td>0.002683</td>\n",
       "      <td>0.006784</td>\n",
       "      <td>0.019032</td>\n",
       "    </tr>\n",
       "    <tr>\n",
       "      <th>Nietzsche</th>\n",
       "      <td>0.003925</td>\n",
       "      <td>0.007841</td>\n",
       "      <td>0.001937</td>\n",
       "      <td>0.004053</td>\n",
       "      <td>0.001661</td>\n",
       "      <td>0.001424</td>\n",
       "      <td>0.002494</td>\n",
       "      <td>0.002225</td>\n",
       "      <td>0.000652</td>\n",
       "      <td>0.001812</td>\n",
       "    </tr>\n",
       "    <tr>\n",
       "      <th>Plato</th>\n",
       "      <td>0.003240</td>\n",
       "      <td>0.006024</td>\n",
       "      <td>0.002237</td>\n",
       "      <td>0.005803</td>\n",
       "      <td>0.001268</td>\n",
       "      <td>0.001555</td>\n",
       "      <td>0.005981</td>\n",
       "      <td>0.003645</td>\n",
       "      <td>0.000662</td>\n",
       "      <td>0.001418</td>\n",
       "    </tr>\n",
       "    <tr>\n",
       "      <th>Popper</th>\n",
       "      <td>0.007208</td>\n",
       "      <td>0.000613</td>\n",
       "      <td>0.001696</td>\n",
       "      <td>0.000586</td>\n",
       "      <td>0.002271</td>\n",
       "      <td>0.001352</td>\n",
       "      <td>0.005124</td>\n",
       "      <td>0.000914</td>\n",
       "      <td>0.001210</td>\n",
       "      <td>0.004209</td>\n",
       "    </tr>\n",
       "    <tr>\n",
       "      <th>Quine</th>\n",
       "      <td>0.005467</td>\n",
       "      <td>0.001791</td>\n",
       "      <td>0.001009</td>\n",
       "      <td>0.000790</td>\n",
       "      <td>0.001125</td>\n",
       "      <td>0.001075</td>\n",
       "      <td>0.003568</td>\n",
       "      <td>0.001246</td>\n",
       "      <td>0.001596</td>\n",
       "      <td>0.005971</td>\n",
       "    </tr>\n",
       "    <tr>\n",
       "      <th>Ricardo</th>\n",
       "      <td>0.002068</td>\n",
       "      <td>0.002036</td>\n",
       "      <td>0.002106</td>\n",
       "      <td>0.000943</td>\n",
       "      <td>0.050388</td>\n",
       "      <td>0.000993</td>\n",
       "      <td>0.001385</td>\n",
       "      <td>0.000697</td>\n",
       "      <td>0.000992</td>\n",
       "      <td>0.000724</td>\n",
       "    </tr>\n",
       "    <tr>\n",
       "      <th>Russell</th>\n",
       "      <td>0.008524</td>\n",
       "      <td>0.003403</td>\n",
       "      <td>0.003040</td>\n",
       "      <td>0.001238</td>\n",
       "      <td>0.001427</td>\n",
       "      <td>0.002464</td>\n",
       "      <td>0.004391</td>\n",
       "      <td>0.003098</td>\n",
       "      <td>0.007733</td>\n",
       "      <td>0.010145</td>\n",
       "    </tr>\n",
       "    <tr>\n",
       "      <th>Smith</th>\n",
       "      <td>0.003670</td>\n",
       "      <td>0.002830</td>\n",
       "      <td>0.001973</td>\n",
       "      <td>0.003029</td>\n",
       "      <td>0.021164</td>\n",
       "      <td>0.001113</td>\n",
       "      <td>0.001941</td>\n",
       "      <td>0.002033</td>\n",
       "      <td>0.000874</td>\n",
       "      <td>0.000921</td>\n",
       "    </tr>\n",
       "    <tr>\n",
       "      <th>Spinoza</th>\n",
       "      <td>0.007750</td>\n",
       "      <td>0.010914</td>\n",
       "      <td>0.016529</td>\n",
       "      <td>0.005803</td>\n",
       "      <td>0.001129</td>\n",
       "      <td>0.005391</td>\n",
       "      <td>0.003353</td>\n",
       "      <td>0.017438</td>\n",
       "      <td>0.007558</td>\n",
       "      <td>0.001091</td>\n",
       "    </tr>\n",
       "    <tr>\n",
       "      <th>Wittgenstein</th>\n",
       "      <td>0.004632</td>\n",
       "      <td>0.001622</td>\n",
       "      <td>0.000753</td>\n",
       "      <td>0.000694</td>\n",
       "      <td>0.000930</td>\n",
       "      <td>0.000897</td>\n",
       "      <td>0.004357</td>\n",
       "      <td>0.001413</td>\n",
       "      <td>0.002305</td>\n",
       "      <td>0.005443</td>\n",
       "    </tr>\n",
       "    <tr>\n",
       "      <th>Wollstonecraft</th>\n",
       "      <td>0.005232</td>\n",
       "      <td>0.012746</td>\n",
       "      <td>0.006561</td>\n",
       "      <td>0.004157</td>\n",
       "      <td>0.002230</td>\n",
       "      <td>0.010019</td>\n",
       "      <td>0.002708</td>\n",
       "      <td>0.005558</td>\n",
       "      <td>0.002532</td>\n",
       "      <td>0.004537</td>\n",
       "    </tr>\n",
       "  </tbody>\n",
       "</table>\n",
       "</div>"
      ],
      "text/plain": [
       "                  Topic0    Topic1    Topic2    Topic3    Topic4    Topic5  \\\n",
       "author                                                                       \n",
       "Aristotle       0.004921  0.008412  0.004826  0.005092  0.002067  0.003481   \n",
       "Beauvoir        0.004016  0.012556  0.002008  0.001899  0.001984  0.001116   \n",
       "Berkeley        0.006885  0.002858  0.006096  0.001579  0.001265  0.003841   \n",
       "Davis           0.003380  0.004496  0.000924  0.000973  0.002693  0.000840   \n",
       "Deleuze         0.008916  0.002159  0.003814  0.001278  0.003893  0.001767   \n",
       "Derrida         0.007893  0.002491  0.001468  0.000619  0.001420  0.002900   \n",
       "Descartes       0.010605  0.002468  0.013194  0.003191  0.002178  0.007905   \n",
       "Epictetus       0.002461  0.005244  0.004543  0.004271  0.001836  0.002415   \n",
       "Fichte          0.009925  0.001032  0.008906  0.002666  0.001594  0.006407   \n",
       "Foucault        0.009519  0.006492  0.006628  0.001161  0.004113  0.004768   \n",
       "Hegel           0.017896  0.000790  0.005194  0.001824  0.001477  0.003501   \n",
       "Heidegger       0.007107  0.001902  0.002332  0.000491  0.001502  0.001127   \n",
       "Hume            0.009389  0.003720  0.007443  0.003358  0.002447  0.006440   \n",
       "Husserl         0.011665  0.002491  0.006026  0.000530  0.001404  0.003821   \n",
       "Kant            0.012180  0.001294  0.014558  0.003102  0.001359  0.019514   \n",
       "Keynes          0.005202  0.001628  0.001271  0.001706  0.022578  0.002080   \n",
       "Kripke          0.005299  0.002699  0.000608  0.000824  0.001537  0.000981   \n",
       "Leibniz         0.005196  0.005534  0.006044  0.008865  0.001528  0.008533   \n",
       "Lenin           0.006758  0.001016  0.001224  0.001030  0.006608  0.001277   \n",
       "Lewis           0.004647  0.000781  0.000983  0.001399  0.001438  0.001745   \n",
       "Locke           0.009828  0.011826  0.006309  0.003918  0.002396  0.006456   \n",
       "Malebranche     0.006540  0.004905  0.005118  0.005297  0.001573  0.005380   \n",
       "Marx            0.004365  0.002605  0.002094  0.000954  0.032165  0.000617   \n",
       "Merleau-Ponty   0.009678  0.002493  0.002312  0.000455  0.001643  0.001724   \n",
       "Moore           0.007843  0.003762  0.002262  0.003916  0.002541  0.010075   \n",
       "Nietzsche       0.003925  0.007841  0.001937  0.004053  0.001661  0.001424   \n",
       "Plato           0.003240  0.006024  0.002237  0.005803  0.001268  0.001555   \n",
       "Popper          0.007208  0.000613  0.001696  0.000586  0.002271  0.001352   \n",
       "Quine           0.005467  0.001791  0.001009  0.000790  0.001125  0.001075   \n",
       "Ricardo         0.002068  0.002036  0.002106  0.000943  0.050388  0.000993   \n",
       "Russell         0.008524  0.003403  0.003040  0.001238  0.001427  0.002464   \n",
       "Smith           0.003670  0.002830  0.001973  0.003029  0.021164  0.001113   \n",
       "Spinoza         0.007750  0.010914  0.016529  0.005803  0.001129  0.005391   \n",
       "Wittgenstein    0.004632  0.001622  0.000753  0.000694  0.000930  0.000897   \n",
       "Wollstonecraft  0.005232  0.012746  0.006561  0.004157  0.002230  0.010019   \n",
       "\n",
       "                  Topic6    Topic7    Topic8    Topic9  \n",
       "author                                                  \n",
       "Aristotle       0.005053  0.007070  0.002229  0.004384  \n",
       "Beauvoir        0.003072  0.004109  0.002507  0.001071  \n",
       "Berkeley        0.002338  0.006841  0.003556  0.011157  \n",
       "Davis           0.001957  0.001406  0.000307  0.000922  \n",
       "Deleuze         0.003408  0.004495  0.005305  0.006078  \n",
       "Derrida         0.002852  0.002976  0.002256  0.004905  \n",
       "Descartes       0.008961  0.015372  0.002536  0.005499  \n",
       "Epictetus       0.002299  0.003989  0.001113  0.000568  \n",
       "Fichte          0.006557  0.002909  0.006830  0.002450  \n",
       "Foucault        0.003761  0.004667  0.002947  0.003067  \n",
       "Hegel           0.003696  0.001302  0.006922  0.002616  \n",
       "Heidegger       0.007238  0.000702  0.002964  0.004434  \n",
       "Hume            0.002073  0.005664  0.011387  0.003583  \n",
       "Husserl         0.008652  0.003060  0.004611  0.013648  \n",
       "Kant            0.005166  0.002158  0.018896  0.005887  \n",
       "Keynes          0.003545  0.000947  0.001321  0.004694  \n",
       "Kripke          0.004090  0.001404  0.003575  0.006914  \n",
       "Leibniz         0.003060  0.004772  0.001736  0.003180  \n",
       "Lenin           0.003189  0.001411  0.000651  0.002398  \n",
       "Lewis           0.004686  0.001575  0.001154  0.003672  \n",
       "Locke           0.005063  0.011143  0.001413  0.003892  \n",
       "Malebranche     0.004869  0.014432  0.004037  0.003770  \n",
       "Marx            0.002031  0.001197  0.000838  0.000899  \n",
       "Merleau-Ponty   0.005347  0.013859  0.013663  0.005841  \n",
       "Moore           0.005245  0.002683  0.006784  0.019032  \n",
       "Nietzsche       0.002494  0.002225  0.000652  0.001812  \n",
       "Plato           0.005981  0.003645  0.000662  0.001418  \n",
       "Popper          0.005124  0.000914  0.001210  0.004209  \n",
       "Quine           0.003568  0.001246  0.001596  0.005971  \n",
       "Ricardo         0.001385  0.000697  0.000992  0.000724  \n",
       "Russell         0.004391  0.003098  0.007733  0.010145  \n",
       "Smith           0.001941  0.002033  0.000874  0.000921  \n",
       "Spinoza         0.003353  0.017438  0.007558  0.001091  \n",
       "Wittgenstein    0.004357  0.001413  0.002305  0.005443  \n",
       "Wollstonecraft  0.002708  0.005558  0.002532  0.004537  "
      ]
     },
     "execution_count": 25,
     "metadata": {},
     "output_type": "execute_result"
    }
   ],
   "source": [
    "agg_author_pca = df_pca.groupby(['author']).mean()\n",
    "agg_author_pca"
   ]
  },
  {
   "cell_type": "markdown",
   "id": "85a719ad",
   "metadata": {},
   "source": [
    "### And then the 5 philosopher with the highest average for that topic would be determined using this function:"
   ]
  },
  {
   "cell_type": "code",
   "execution_count": 26,
   "id": "190fdf2a",
   "metadata": {},
   "outputs": [],
   "source": [
    "def topic_top5(agg_author_pca, topic):\n",
    "    return agg_author_pca.sort_values(by=[topic], ascending=False).head().iloc[:5,:0]"
   ]
  },
  {
   "cell_type": "code",
   "execution_count": 27,
   "id": "463c1f2a",
   "metadata": {},
   "outputs": [],
   "source": [
    "philosopher_count_dict = dict(philosopher_pcts)"
   ]
  },
  {
   "cell_type": "markdown",
   "id": "5b6030c6",
   "metadata": {},
   "source": [
    "### 2) For each raw topic, the share of each author of the top 1000 philosophers with the highest score for that topic will be determined using this function. Here we have to normalize to the initial share of the total works for each philosopher, otherwise the outcome would be dominated by the authors with most works (Aristotle, Plato and Hegel): "
   ]
  },
  {
   "cell_type": "code",
   "execution_count": 28,
   "id": "256c9f74",
   "metadata": {},
   "outputs": [],
   "source": [
    "def work_normalizer(df, topic):\n",
    "    df_top1000 = df.sort_values(by=[topic], ascending=False).head(1000)\n",
    "    phil_top1000 = dict(df_top1000['author'].value_counts())\n",
    "    \n",
    "    for i in philosopher_count_dict.keys():\n",
    "        for j in phil_top1000.keys():\n",
    "            if i == j:\n",
    "                phil_top1000[i] = phil_top1000[j]/philosopher_count_dict[i]\n",
    "    sort_dict= dict(sorted(phil_top1000.items(), reverse=True, key=itemgetter(1)))\n",
    "    keys = sort_dict.keys()\n",
    "    values = sort_dict.values()\n",
    "    plt.bar(keys, values)\n",
    "    plt.xticks(rotation=90)"
   ]
  },
  {
   "cell_type": "markdown",
   "id": "b0abbbd5",
   "metadata": {},
   "source": [
    "### Now, using these two criteria and the functions, the raw topics would be evaluated:"
   ]
  },
  {
   "cell_type": "markdown",
   "id": "b8b5f51c",
   "metadata": {},
   "source": [
    "### Topic0"
   ]
  },
  {
   "cell_type": "code",
   "execution_count": 29,
   "id": "286de97b",
   "metadata": {},
   "outputs": [
    {
     "data": {
      "text/html": [
       "<div>\n",
       "<style scoped>\n",
       "    .dataframe tbody tr th:only-of-type {\n",
       "        vertical-align: middle;\n",
       "    }\n",
       "\n",
       "    .dataframe tbody tr th {\n",
       "        vertical-align: top;\n",
       "    }\n",
       "\n",
       "    .dataframe thead th {\n",
       "        text-align: right;\n",
       "    }\n",
       "</style>\n",
       "<table border=\"1\" class=\"dataframe\">\n",
       "  <thead>\n",
       "    <tr style=\"text-align: right;\">\n",
       "      <th></th>\n",
       "    </tr>\n",
       "    <tr>\n",
       "      <th>author</th>\n",
       "    </tr>\n",
       "  </thead>\n",
       "  <tbody>\n",
       "    <tr>\n",
       "      <th>Hegel</th>\n",
       "    </tr>\n",
       "    <tr>\n",
       "      <th>Kant</th>\n",
       "    </tr>\n",
       "    <tr>\n",
       "      <th>Husserl</th>\n",
       "    </tr>\n",
       "    <tr>\n",
       "      <th>Descartes</th>\n",
       "    </tr>\n",
       "    <tr>\n",
       "      <th>Fichte</th>\n",
       "    </tr>\n",
       "  </tbody>\n",
       "</table>\n",
       "</div>"
      ],
      "text/plain": [
       "Empty DataFrame\n",
       "Columns: []\n",
       "Index: [Hegel, Kant, Husserl, Descartes, Fichte]"
      ]
     },
     "execution_count": 29,
     "metadata": {},
     "output_type": "execute_result"
    }
   ],
   "source": [
    "topic_top5(agg_author_pca, 'Topic0')"
   ]
  },
  {
   "cell_type": "code",
   "execution_count": 30,
   "id": "6093cc10",
   "metadata": {},
   "outputs": [
    {
     "data": {
      "image/png": "[encoded data removed]",
      "text/plain": [
       "<Figure size 432x288 with 1 Axes>"
      ]
     },
     "metadata": {
      "needs_background": "light"
     },
     "output_type": "display_data"
    }
   ],
   "source": [
    "work_normalizer(df_pca, 'Topic0')"
   ]
  },
  {
   "cell_type": "markdown",
   "id": "c932b847",
   "metadata": {},
   "source": [
    "### Having Kant, Fichte, Hegel and even Husserl dominating this topic, the topic best identifies as German Idealism."
   ]
  },
  {
   "cell_type": "markdown",
   "id": "17fe9c56",
   "metadata": {},
   "source": [
    "### Topic 1"
   ]
  },
  {
   "cell_type": "code",
   "execution_count": 31,
   "id": "5eabce30",
   "metadata": {},
   "outputs": [
    {
     "data": {
      "text/html": [
       "<div>\n",
       "<style scoped>\n",
       "    .dataframe tbody tr th:only-of-type {\n",
       "        vertical-align: middle;\n",
       "    }\n",
       "\n",
       "    .dataframe tbody tr th {\n",
       "        vertical-align: top;\n",
       "    }\n",
       "\n",
       "    .dataframe thead th {\n",
       "        text-align: right;\n",
       "    }\n",
       "</style>\n",
       "<table border=\"1\" class=\"dataframe\">\n",
       "  <thead>\n",
       "    <tr style=\"text-align: right;\">\n",
       "      <th></th>\n",
       "    </tr>\n",
       "    <tr>\n",
       "      <th>author</th>\n",
       "    </tr>\n",
       "  </thead>\n",
       "  <tbody>\n",
       "    <tr>\n",
       "      <th>Wollstonecraft</th>\n",
       "    </tr>\n",
       "    <tr>\n",
       "      <th>Beauvoir</th>\n",
       "    </tr>\n",
       "    <tr>\n",
       "      <th>Locke</th>\n",
       "    </tr>\n",
       "    <tr>\n",
       "      <th>Spinoza</th>\n",
       "    </tr>\n",
       "    <tr>\n",
       "      <th>Aristotle</th>\n",
       "    </tr>\n",
       "  </tbody>\n",
       "</table>\n",
       "</div>"
      ],
      "text/plain": [
       "Empty DataFrame\n",
       "Columns: []\n",
       "Index: [Wollstonecraft, Beauvoir, Locke, Spinoza, Aristotle]"
      ]
     },
     "execution_count": 31,
     "metadata": {},
     "output_type": "execute_result"
    }
   ],
   "source": [
    "topic_top5(agg_author_pca, 'Topic1')"
   ]
  },
  {
   "cell_type": "code",
   "execution_count": 32,
   "id": "eecf69e6",
   "metadata": {},
   "outputs": [
    {
     "data": {
      "image/png": "[encoded data removed]",
      "text/plain": [
       "<Figure size 432x288 with 1 Axes>"
      ]
     },
     "metadata": {
      "needs_background": "light"
     },
     "output_type": "display_data"
    }
   ],
   "source": [
    "work_normalizer(df_pca, 'Topic1')"
   ]
  },
  {
   "cell_type": "markdown",
   "id": "f81a2aa2",
   "metadata": {},
   "source": [
    "### Simon de Beauvoir and Mary Wollstonecraft are among the top authors for this topic. Therefore it would be classified as Feminism."
   ]
  },
  {
   "cell_type": "markdown",
   "id": "da44b10d",
   "metadata": {},
   "source": [
    "### Topic 2"
   ]
  },
  {
   "cell_type": "code",
   "execution_count": 33,
   "id": "bd9c809e",
   "metadata": {},
   "outputs": [
    {
     "data": {
      "text/html": [
       "<div>\n",
       "<style scoped>\n",
       "    .dataframe tbody tr th:only-of-type {\n",
       "        vertical-align: middle;\n",
       "    }\n",
       "\n",
       "    .dataframe tbody tr th {\n",
       "        vertical-align: top;\n",
       "    }\n",
       "\n",
       "    .dataframe thead th {\n",
       "        text-align: right;\n",
       "    }\n",
       "</style>\n",
       "<table border=\"1\" class=\"dataframe\">\n",
       "  <thead>\n",
       "    <tr style=\"text-align: right;\">\n",
       "      <th></th>\n",
       "    </tr>\n",
       "    <tr>\n",
       "      <th>author</th>\n",
       "    </tr>\n",
       "  </thead>\n",
       "  <tbody>\n",
       "    <tr>\n",
       "      <th>Spinoza</th>\n",
       "    </tr>\n",
       "    <tr>\n",
       "      <th>Kant</th>\n",
       "    </tr>\n",
       "    <tr>\n",
       "      <th>Descartes</th>\n",
       "    </tr>\n",
       "    <tr>\n",
       "      <th>Fichte</th>\n",
       "    </tr>\n",
       "    <tr>\n",
       "      <th>Hume</th>\n",
       "    </tr>\n",
       "  </tbody>\n",
       "</table>\n",
       "</div>"
      ],
      "text/plain": [
       "Empty DataFrame\n",
       "Columns: []\n",
       "Index: [Spinoza, Kant, Descartes, Fichte, Hume]"
      ]
     },
     "execution_count": 33,
     "metadata": {},
     "output_type": "execute_result"
    }
   ],
   "source": [
    "topic_top5(agg_author_pca, 'Topic2')"
   ]
  },
  {
   "cell_type": "code",
   "execution_count": 34,
   "id": "59c9dfbe",
   "metadata": {},
   "outputs": [
    {
     "data": {
      "image/png": "[encoded data removed]",
      "text/plain": [
       "<Figure size 432x288 with 1 Axes>"
      ]
     },
     "metadata": {
      "needs_background": "light"
     },
     "output_type": "display_data"
    }
   ],
   "source": [
    "work_normalizer(df_pca, 'Topic2')"
   ]
  },
  {
   "cell_type": "markdown",
   "id": "ae5f0386",
   "metadata": {},
   "source": [
    "### Spinoza and Descartes are coming out as significant here but so are Kant and Fichte. So no final interpretation would be made for this topic yet. "
   ]
  },
  {
   "cell_type": "markdown",
   "id": "94158915",
   "metadata": {},
   "source": [
    "### Topic 3"
   ]
  },
  {
   "cell_type": "code",
   "execution_count": 35,
   "id": "5bfd6646",
   "metadata": {},
   "outputs": [
    {
     "data": {
      "text/html": [
       "<div>\n",
       "<style scoped>\n",
       "    .dataframe tbody tr th:only-of-type {\n",
       "        vertical-align: middle;\n",
       "    }\n",
       "\n",
       "    .dataframe tbody tr th {\n",
       "        vertical-align: top;\n",
       "    }\n",
       "\n",
       "    .dataframe thead th {\n",
       "        text-align: right;\n",
       "    }\n",
       "</style>\n",
       "<table border=\"1\" class=\"dataframe\">\n",
       "  <thead>\n",
       "    <tr style=\"text-align: right;\">\n",
       "      <th></th>\n",
       "    </tr>\n",
       "    <tr>\n",
       "      <th>author</th>\n",
       "    </tr>\n",
       "  </thead>\n",
       "  <tbody>\n",
       "    <tr>\n",
       "      <th>Leibniz</th>\n",
       "    </tr>\n",
       "    <tr>\n",
       "      <th>Spinoza</th>\n",
       "    </tr>\n",
       "    <tr>\n",
       "      <th>Plato</th>\n",
       "    </tr>\n",
       "    <tr>\n",
       "      <th>Malebranche</th>\n",
       "    </tr>\n",
       "    <tr>\n",
       "      <th>Aristotle</th>\n",
       "    </tr>\n",
       "  </tbody>\n",
       "</table>\n",
       "</div>"
      ],
      "text/plain": [
       "Empty DataFrame\n",
       "Columns: []\n",
       "Index: [Leibniz, Spinoza, Plato, Malebranche, Aristotle]"
      ]
     },
     "execution_count": 35,
     "metadata": {},
     "output_type": "execute_result"
    }
   ],
   "source": [
    "topic_top5(agg_author_pca, 'Topic3')"
   ]
  },
  {
   "cell_type": "code",
   "execution_count": 36,
   "id": "16135413",
   "metadata": {},
   "outputs": [
    {
     "data": {
      "image/png": "[encoded data removed]",
      "text/plain": [
       "<Figure size 432x288 with 1 Axes>"
      ]
     },
     "metadata": {
      "needs_background": "light"
     },
     "output_type": "display_data"
    }
   ],
   "source": [
    "work_normalizer(df_pca, 'Topic3')"
   ]
  },
  {
   "cell_type": "markdown",
   "id": "b3ba2ea1",
   "metadata": {},
   "source": [
    "### Authors dominating this topic are from diverse schools. They discuss a wide variety of topics in their works. To better interpret this topic, the salient words would be given more weight. Having words such as GOOD, BAD, EVIL, PLEASURE, LOVE,  DESIRE, PLEASANT, RIGHT, VIRTUE, PAIN, MORAL and KIND, this topic would be designated as Ethics and Morality. "
   ]
  },
  {
   "cell_type": "markdown",
   "id": "af0ceee8",
   "metadata": {},
   "source": [
    "### Topic 4"
   ]
  },
  {
   "cell_type": "code",
   "execution_count": 37,
   "id": "f4d9dc1b",
   "metadata": {},
   "outputs": [
    {
     "data": {
      "text/html": [
       "<div>\n",
       "<style scoped>\n",
       "    .dataframe tbody tr th:only-of-type {\n",
       "        vertical-align: middle;\n",
       "    }\n",
       "\n",
       "    .dataframe tbody tr th {\n",
       "        vertical-align: top;\n",
       "    }\n",
       "\n",
       "    .dataframe thead th {\n",
       "        text-align: right;\n",
       "    }\n",
       "</style>\n",
       "<table border=\"1\" class=\"dataframe\">\n",
       "  <thead>\n",
       "    <tr style=\"text-align: right;\">\n",
       "      <th></th>\n",
       "    </tr>\n",
       "    <tr>\n",
       "      <th>author</th>\n",
       "    </tr>\n",
       "  </thead>\n",
       "  <tbody>\n",
       "    <tr>\n",
       "      <th>Ricardo</th>\n",
       "    </tr>\n",
       "    <tr>\n",
       "      <th>Marx</th>\n",
       "    </tr>\n",
       "    <tr>\n",
       "      <th>Keynes</th>\n",
       "    </tr>\n",
       "    <tr>\n",
       "      <th>Smith</th>\n",
       "    </tr>\n",
       "    <tr>\n",
       "      <th>Lenin</th>\n",
       "    </tr>\n",
       "  </tbody>\n",
       "</table>\n",
       "</div>"
      ],
      "text/plain": [
       "Empty DataFrame\n",
       "Columns: []\n",
       "Index: [Ricardo, Marx, Keynes, Smith, Lenin]"
      ]
     },
     "execution_count": 37,
     "metadata": {},
     "output_type": "execute_result"
    }
   ],
   "source": [
    "topic_top5(agg_author_pca, 'Topic4')"
   ]
  },
  {
   "cell_type": "code",
   "execution_count": 38,
   "id": "2bd91f1d",
   "metadata": {},
   "outputs": [
    {
     "data": {
      "image/png": "[encoded data removed]",
      "text/plain": [
       "<Figure size 432x288 with 1 Axes>"
      ]
     },
     "metadata": {
      "needs_background": "light"
     },
     "output_type": "display_data"
    }
   ],
   "source": [
    "work_normalizer(df_pca, 'Topic4')"
   ]
  },
  {
   "cell_type": "markdown",
   "id": "89f0686e",
   "metadata": {},
   "source": [
    "### Given both the word composition and the authors dominating this topic (Marx, Ricardo, Smith and Keynes), this topic is very easy to brand as Marxism/Capitalism."
   ]
  },
  {
   "cell_type": "markdown",
   "id": "2ea31124",
   "metadata": {},
   "source": [
    "### Topic 5"
   ]
  },
  {
   "cell_type": "code",
   "execution_count": 39,
   "id": "2fbcc548",
   "metadata": {},
   "outputs": [
    {
     "data": {
      "text/html": [
       "<div>\n",
       "<style scoped>\n",
       "    .dataframe tbody tr th:only-of-type {\n",
       "        vertical-align: middle;\n",
       "    }\n",
       "\n",
       "    .dataframe tbody tr th {\n",
       "        vertical-align: top;\n",
       "    }\n",
       "\n",
       "    .dataframe thead th {\n",
       "        text-align: right;\n",
       "    }\n",
       "</style>\n",
       "<table border=\"1\" class=\"dataframe\">\n",
       "  <thead>\n",
       "    <tr style=\"text-align: right;\">\n",
       "      <th></th>\n",
       "    </tr>\n",
       "    <tr>\n",
       "      <th>author</th>\n",
       "    </tr>\n",
       "  </thead>\n",
       "  <tbody>\n",
       "    <tr>\n",
       "      <th>Kant</th>\n",
       "    </tr>\n",
       "    <tr>\n",
       "      <th>Moore</th>\n",
       "    </tr>\n",
       "    <tr>\n",
       "      <th>Wollstonecraft</th>\n",
       "    </tr>\n",
       "    <tr>\n",
       "      <th>Leibniz</th>\n",
       "    </tr>\n",
       "    <tr>\n",
       "      <th>Descartes</th>\n",
       "    </tr>\n",
       "  </tbody>\n",
       "</table>\n",
       "</div>"
      ],
      "text/plain": [
       "Empty DataFrame\n",
       "Columns: []\n",
       "Index: [Kant, Moore, Wollstonecraft, Leibniz, Descartes]"
      ]
     },
     "execution_count": 39,
     "metadata": {},
     "output_type": "execute_result"
    }
   ],
   "source": [
    "topic_top5(agg_author_pca, 'Topic5')"
   ]
  },
  {
   "cell_type": "code",
   "execution_count": 40,
   "id": "e391be19",
   "metadata": {},
   "outputs": [
    {
     "data": {
      "image/png": "[encoded data removed]",
      "text/plain": [
       "<Figure size 432x288 with 1 Axes>"
      ]
     },
     "metadata": {
      "needs_background": "light"
     },
     "output_type": "display_data"
    }
   ],
   "source": [
    "work_normalizer(df_pca, 'Topic5')"
   ]
  },
  {
   "cell_type": "markdown",
   "id": "e2cf2dc1",
   "metadata": {},
   "source": [
    "### Kant is heavily dominating this topic and given the salient words list, this topic would identify as Kantism."
   ]
  },
  {
   "cell_type": "markdown",
   "id": "830b6076",
   "metadata": {},
   "source": [
    "### Topic 6"
   ]
  },
  {
   "cell_type": "code",
   "execution_count": 41,
   "id": "adc73176",
   "metadata": {},
   "outputs": [
    {
     "data": {
      "text/html": [
       "<div>\n",
       "<style scoped>\n",
       "    .dataframe tbody tr th:only-of-type {\n",
       "        vertical-align: middle;\n",
       "    }\n",
       "\n",
       "    .dataframe tbody tr th {\n",
       "        vertical-align: top;\n",
       "    }\n",
       "\n",
       "    .dataframe thead th {\n",
       "        text-align: right;\n",
       "    }\n",
       "</style>\n",
       "<table border=\"1\" class=\"dataframe\">\n",
       "  <thead>\n",
       "    <tr style=\"text-align: right;\">\n",
       "      <th></th>\n",
       "    </tr>\n",
       "    <tr>\n",
       "      <th>author</th>\n",
       "    </tr>\n",
       "  </thead>\n",
       "  <tbody>\n",
       "    <tr>\n",
       "      <th>Descartes</th>\n",
       "    </tr>\n",
       "    <tr>\n",
       "      <th>Husserl</th>\n",
       "    </tr>\n",
       "    <tr>\n",
       "      <th>Heidegger</th>\n",
       "    </tr>\n",
       "    <tr>\n",
       "      <th>Fichte</th>\n",
       "    </tr>\n",
       "    <tr>\n",
       "      <th>Plato</th>\n",
       "    </tr>\n",
       "  </tbody>\n",
       "</table>\n",
       "</div>"
      ],
      "text/plain": [
       "Empty DataFrame\n",
       "Columns: []\n",
       "Index: [Descartes, Husserl, Heidegger, Fichte, Plato]"
      ]
     },
     "execution_count": 41,
     "metadata": {},
     "output_type": "execute_result"
    }
   ],
   "source": [
    "topic_top5(agg_author_pca, 'Topic6')"
   ]
  },
  {
   "cell_type": "code",
   "execution_count": 42,
   "id": "21408f3e",
   "metadata": {},
   "outputs": [
    {
     "data": {
      "image/png": "[encoded data removed]",
      "text/plain": [
       "<Figure size 432x288 with 1 Axes>"
      ]
     },
     "metadata": {
      "needs_background": "light"
     },
     "output_type": "display_data"
    }
   ],
   "source": [
    "work_normalizer(df_pca, 'Topic6')"
   ]
  },
  {
   "cell_type": "markdown",
   "id": "9b861c09",
   "metadata": {},
   "source": [
    "### Husserl and Heidegger are among the top philosophers here and by looking at the salient words list, this topic would be branded as Continental Philosophy."
   ]
  },
  {
   "cell_type": "markdown",
   "id": "a319d954",
   "metadata": {},
   "source": [
    "### Topic 7"
   ]
  },
  {
   "cell_type": "code",
   "execution_count": 43,
   "id": "c353f7cb",
   "metadata": {},
   "outputs": [
    {
     "data": {
      "text/html": [
       "<div>\n",
       "<style scoped>\n",
       "    .dataframe tbody tr th:only-of-type {\n",
       "        vertical-align: middle;\n",
       "    }\n",
       "\n",
       "    .dataframe tbody tr th {\n",
       "        vertical-align: top;\n",
       "    }\n",
       "\n",
       "    .dataframe thead th {\n",
       "        text-align: right;\n",
       "    }\n",
       "</style>\n",
       "<table border=\"1\" class=\"dataframe\">\n",
       "  <thead>\n",
       "    <tr style=\"text-align: right;\">\n",
       "      <th></th>\n",
       "    </tr>\n",
       "    <tr>\n",
       "      <th>author</th>\n",
       "    </tr>\n",
       "  </thead>\n",
       "  <tbody>\n",
       "    <tr>\n",
       "      <th>Spinoza</th>\n",
       "    </tr>\n",
       "    <tr>\n",
       "      <th>Descartes</th>\n",
       "    </tr>\n",
       "    <tr>\n",
       "      <th>Malebranche</th>\n",
       "    </tr>\n",
       "    <tr>\n",
       "      <th>Merleau-Ponty</th>\n",
       "    </tr>\n",
       "    <tr>\n",
       "      <th>Locke</th>\n",
       "    </tr>\n",
       "  </tbody>\n",
       "</table>\n",
       "</div>"
      ],
      "text/plain": [
       "Empty DataFrame\n",
       "Columns: []\n",
       "Index: [Spinoza, Descartes, Malebranche, Merleau-Ponty, Locke]"
      ]
     },
     "execution_count": 43,
     "metadata": {},
     "output_type": "execute_result"
    }
   ],
   "source": [
    "topic_top5(agg_author_pca, 'Topic7')"
   ]
  },
  {
   "cell_type": "code",
   "execution_count": 44,
   "id": "ca53c917",
   "metadata": {},
   "outputs": [
    {
     "data": {
      "image/png": "[encoded data removed]",
      "text/plain": [
       "<Figure size 432x288 with 1 Axes>"
      ]
     },
     "metadata": {
      "needs_background": "light"
     },
     "output_type": "display_data"
    }
   ],
   "source": [
    "work_normalizer(df_pca, 'Topic7')"
   ]
  },
  {
   "cell_type": "markdown",
   "id": "5d7650e8",
   "metadata": {},
   "source": [
    "### Here, Spinoza and Descartes come out on top again, just like topic 2. By looking at the word's list in this topic and topic 2, these two topics would be combined together as Rationalism. "
   ]
  },
  {
   "cell_type": "markdown",
   "id": "ae144505",
   "metadata": {},
   "source": [
    "### Topic 8"
   ]
  },
  {
   "cell_type": "code",
   "execution_count": 45,
   "id": "781b8735",
   "metadata": {},
   "outputs": [
    {
     "data": {
      "text/html": [
       "<div>\n",
       "<style scoped>\n",
       "    .dataframe tbody tr th:only-of-type {\n",
       "        vertical-align: middle;\n",
       "    }\n",
       "\n",
       "    .dataframe tbody tr th {\n",
       "        vertical-align: top;\n",
       "    }\n",
       "\n",
       "    .dataframe thead th {\n",
       "        text-align: right;\n",
       "    }\n",
       "</style>\n",
       "<table border=\"1\" class=\"dataframe\">\n",
       "  <thead>\n",
       "    <tr style=\"text-align: right;\">\n",
       "      <th></th>\n",
       "    </tr>\n",
       "    <tr>\n",
       "      <th>author</th>\n",
       "    </tr>\n",
       "  </thead>\n",
       "  <tbody>\n",
       "    <tr>\n",
       "      <th>Kant</th>\n",
       "    </tr>\n",
       "    <tr>\n",
       "      <th>Merleau-Ponty</th>\n",
       "    </tr>\n",
       "    <tr>\n",
       "      <th>Hume</th>\n",
       "    </tr>\n",
       "    <tr>\n",
       "      <th>Russell</th>\n",
       "    </tr>\n",
       "    <tr>\n",
       "      <th>Spinoza</th>\n",
       "    </tr>\n",
       "  </tbody>\n",
       "</table>\n",
       "</div>"
      ],
      "text/plain": [
       "Empty DataFrame\n",
       "Columns: []\n",
       "Index: [Kant, Merleau-Ponty, Hume, Russell, Spinoza]"
      ]
     },
     "execution_count": 45,
     "metadata": {},
     "output_type": "execute_result"
    }
   ],
   "source": [
    "topic_top5(agg_author_pca, 'Topic8')"
   ]
  },
  {
   "cell_type": "code",
   "execution_count": 46,
   "id": "e87265fa",
   "metadata": {},
   "outputs": [
    {
     "data": {
      "image/png": "[encoded data removed]",
      "text/plain": [
       "<Figure size 432x288 with 1 Axes>"
      ]
     },
     "metadata": {
      "needs_background": "light"
     },
     "output_type": "display_data"
    }
   ],
   "source": [
    "work_normalizer(df_pca, 'Topic8')"
   ]
  },
  {
   "cell_type": "markdown",
   "id": "3c7f74cf",
   "metadata": {},
   "source": [
    "### The presence of David Hume in the top authors list here,combined with the word composition for this topic, makes it a good candidate to present Empiricism/Idealism."
   ]
  },
  {
   "cell_type": "markdown",
   "id": "a7a9877f",
   "metadata": {},
   "source": [
    "### Topic 9"
   ]
  },
  {
   "cell_type": "code",
   "execution_count": 47,
   "id": "c9384ccf",
   "metadata": {},
   "outputs": [
    {
     "data": {
      "text/html": [
       "<div>\n",
       "<style scoped>\n",
       "    .dataframe tbody tr th:only-of-type {\n",
       "        vertical-align: middle;\n",
       "    }\n",
       "\n",
       "    .dataframe tbody tr th {\n",
       "        vertical-align: top;\n",
       "    }\n",
       "\n",
       "    .dataframe thead th {\n",
       "        text-align: right;\n",
       "    }\n",
       "</style>\n",
       "<table border=\"1\" class=\"dataframe\">\n",
       "  <thead>\n",
       "    <tr style=\"text-align: right;\">\n",
       "      <th></th>\n",
       "    </tr>\n",
       "    <tr>\n",
       "      <th>author</th>\n",
       "    </tr>\n",
       "  </thead>\n",
       "  <tbody>\n",
       "    <tr>\n",
       "      <th>Moore</th>\n",
       "    </tr>\n",
       "    <tr>\n",
       "      <th>Husserl</th>\n",
       "    </tr>\n",
       "    <tr>\n",
       "      <th>Berkeley</th>\n",
       "    </tr>\n",
       "    <tr>\n",
       "      <th>Russell</th>\n",
       "    </tr>\n",
       "    <tr>\n",
       "      <th>Kripke</th>\n",
       "    </tr>\n",
       "  </tbody>\n",
       "</table>\n",
       "</div>"
      ],
      "text/plain": [
       "Empty DataFrame\n",
       "Columns: []\n",
       "Index: [Moore, Husserl, Berkeley, Russell, Kripke]"
      ]
     },
     "execution_count": 47,
     "metadata": {},
     "output_type": "execute_result"
    }
   ],
   "source": [
    "topic_top5(agg_author_pca, 'Topic9')"
   ]
  },
  {
   "cell_type": "code",
   "execution_count": 48,
   "id": "bfaee8a1",
   "metadata": {},
   "outputs": [
    {
     "data": {
      "image/png": "[encoded data removed]",
      "text/plain": [
       "<Figure size 432x288 with 1 Axes>"
      ]
     },
     "metadata": {
      "needs_background": "light"
     },
     "output_type": "display_data"
    }
   ],
   "source": [
    "work_normalizer(df_pca, 'Topic9')"
   ]
  },
  {
   "cell_type": "markdown",
   "id": "0718fecc",
   "metadata": {},
   "source": [
    "### Russel and Moore being on top here, make this topic closest to Analytic philosophy. "
   ]
  },
  {
   "cell_type": "markdown",
   "id": "aef9ab3e",
   "metadata": {},
   "source": [
    "## Conclusion"
   ]
  },
  {
   "cell_type": "markdown",
   "id": "d2855072",
   "metadata": {},
   "source": [
    "### To recap, using EDA and domain knowledge, topic evaluation and interpretation were performed on the raw topics and they have been tagged as follow:\n",
    "\n",
    "Topic 0: __German Idealism__<br>\n",
    "Topic 1: __Feminism__<br>\n",
    "Topic 2 & 7: __Rationalism__<br>\n",
    "Topic 3: __Ethics__<br>\n",
    "Topic 4: __Marxism/Capitalism__<br>\n",
    "Topic 5: __Kantism__<br>\n",
    "Topic 6: __Continental__<br>\n",
    "Topic 8: __Empiricism/Idealism__<br>\n",
    "Topic 9: __Analytic__<br>"
   ]
  }
 ],
 "metadata": {
  "kernelspec": {
   "display_name": "Python 3",
   "language": "python",
   "name": "python3"
  },
  "language_info": {
   "codemirror_mode": {
    "name": "ipython",
    "version": 3
   },
   "file_extension": ".py",
   "mimetype": "text/x-python",
   "name": "python",
   "nbconvert_exporter": "python",
   "pygments_lexer": "ipython3",
   "version": "3.8.8"
  }
 },
 "nbformat": 4,
 "nbformat_minor": 5
}
