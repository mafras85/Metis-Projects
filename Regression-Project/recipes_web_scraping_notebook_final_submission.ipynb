{
 "cells": [
  {
   "cell_type": "code",
   "execution_count": 1,
   "id": "30bb8eb0",
   "metadata": {},
   "outputs": [],
   "source": [
    "from bs4 import BeautifulSoup\n",
    "import requests\n",
    "import re\n",
    "import pandas as pd"
   ]
  },
  {
   "cell_type": "markdown",
   "id": "ed993627",
   "metadata": {},
   "source": [
    "### In the first step, the urls for main pages of recipes will be stored in a list:  "
   ]
  },
  {
   "cell_type": "code",
   "execution_count": 2,
   "id": "85b516ff",
   "metadata": {},
   "outputs": [],
   "source": [
    "# Storing the urls of main recipe pages, for 80 pages: \n",
    "\n",
    "def get_urls(page_nums):\n",
    "    url = 'https://www.allrecipes.com/recipes/17562/dinner/?page={}'\n",
    "    lst = []\n",
    "    for num in page_nums:\n",
    "        page_url = url.format(num)\n",
    "        lst.append(page_url)\n",
    "    return lst\n",
    "\n",
    "page_nums = range(2,82)\n",
    "url_list = get_urls(page_nums)"
   ]
  },
  {
   "cell_type": "markdown",
   "id": "adb26d9b",
   "metadata": {},
   "source": [
    "### Next, a list of soup objects will be produced for all 80 pages:"
   ]
  },
  {
   "cell_type": "code",
   "execution_count": 3,
   "id": "a2ca52db",
   "metadata": {},
   "outputs": [],
   "source": [
    "# Making a list of soup objects for main pages:\n",
    "\n",
    "def get_soups(url_list):\n",
    "    lst = []\n",
    "    for url in url_list:\n",
    "        lst.append(BeautifulSoup((requests.get(url)).text, \"html5lib\"))\n",
    "    return lst\n",
    "\n",
    "soup_list = get_soups(url_list)    "
   ]
  },
  {
   "cell_type": "code",
   "execution_count": 4,
   "id": "b8a8e4ce",
   "metadata": {},
   "outputs": [
    {
     "data": {
      "text/plain": [
       "80"
      ]
     },
     "execution_count": 4,
     "metadata": {},
     "output_type": "execute_result"
    }
   ],
   "source": [
    "len(soup_list)"
   ]
  },
  {
   "cell_type": "markdown",
   "id": "8d1fc1aa",
   "metadata": {},
   "source": [
    "### Every main page contains 22 recipes. In this step, the url of all the individual recipes will be extracted from the previous soup list and all the urls will be added to a list:"
   ]
  },
  {
   "cell_type": "code",
   "execution_count": 5,
   "id": "adeeeaca",
   "metadata": {},
   "outputs": [],
   "source": [
    "# Extracting the individual recipe's url:\n",
    "\n",
    "def get_recipes_url(soup_list):\n",
    "    main_url = 'https://www.allrecipes.com'\n",
    "    lst = []\n",
    "    for soup in soup_list:\n",
    "        for unit in soup.find_all(class_='tout__titleLink'):\n",
    "            if 'recipe' in unit['href']:\n",
    "                lst.append(main_url+unit['href'])\n",
    "    return lst\n",
    "\n",
    "recipes_url_list = get_recipes_url(soup_list)"
   ]
  },
  {
   "cell_type": "code",
   "execution_count": 6,
   "id": "e233a137",
   "metadata": {},
   "outputs": [
    {
     "data": {
      "text/plain": [
       "1680"
      ]
     },
     "execution_count": 6,
     "metadata": {},
     "output_type": "execute_result"
    }
   ],
   "source": [
    "len(recipes_url_list)"
   ]
  },
  {
   "cell_type": "code",
   "execution_count": 7,
   "id": "6c2b0526",
   "metadata": {},
   "outputs": [
    {
     "data": {
      "text/plain": [
       "['https://www.allrecipes.com/recipe/229658/oven-roasted-turkey-breast/',\n",
       " 'https://www.allrecipes.com/recipe/166160/juicy-thanksgiving-turkey/',\n",
       " 'https://www.allrecipes.com/recipe/276505/grandmas-hash-brown-casserole/',\n",
       " 'https://www.allrecipes.com/recipe/222000/spaghetti-aglio-e-olio/',\n",
       " 'https://www.allrecipes.com/recipe/221958/chef-johns-perfect-prime-rib/']"
      ]
     },
     "execution_count": 7,
     "metadata": {},
     "output_type": "execute_result"
    }
   ],
   "source": [
    "recipes_url_list[0:5]"
   ]
  },
  {
   "cell_type": "markdown",
   "id": "47d726dc",
   "metadata": {},
   "source": [
    "### Having the individual urls, now the soup object for each individual recipe can be made. All these soup object will be added to a list:"
   ]
  },
  {
   "cell_type": "code",
   "execution_count": 8,
   "id": "891377dc",
   "metadata": {},
   "outputs": [],
   "source": [
    "# Extracting and saving the soup object for each recipe:\n",
    "\n",
    "def get_recipes_soup(recipes_url_list):\n",
    "    lst = []\n",
    "    for url in recipes_url_list:\n",
    "        lst.append(BeautifulSoup((requests.get(url)).text, \"html5lib\"))\n",
    "    return lst\n",
    "\n",
    "recipes_soup = get_recipes_soup(recipes_url_list)"
   ]
  },
  {
   "cell_type": "code",
   "execution_count": 9,
   "id": "eaa0e84f",
   "metadata": {},
   "outputs": [
    {
     "data": {
      "text/plain": [
       "1680"
      ]
     },
     "execution_count": 9,
     "metadata": {},
     "output_type": "execute_result"
    }
   ],
   "source": [
    "len(recipes_soup)"
   ]
  },
  {
   "cell_type": "markdown",
   "id": "18f4aa4b",
   "metadata": {},
   "source": [
    "### Now, using the recipe's soup list, the features and targets will be extracted into a dictionary using the function below. Because of some website anomalies, there might be some recipes with different structures with the site norm. An exception case will be defined for them inside the function:"
   ]
  },
  {
   "cell_type": "code",
   "execution_count": 10,
   "id": "b8fe7d72",
   "metadata": {},
   "outputs": [],
   "source": [
    "# Extracting the targets and features from individual recipe's soups:\n",
    "\n",
    "def recipe_dict(recipes_soup):\n",
    "    dict={}\n",
    "    for item in recipes_soup:\n",
    "        try:\n",
    "            title = item.find('title').text.split('Recipe |')[0].strip()\n",
    "            ratings_average = float(item.find(class_='component recipe-reviews container-full-width template-two-col with-sidebar-right hidden')['data-ratings-average'])\n",
    "            ratings_count = float(item.find(class_='component recipe-reviews container-full-width template-two-col with-sidebar-right hidden')['data-ratings-count'])\n",
    "            reviews_count = float(item.find(class_='component recipe-reviews container-full-width template-two-col with-sidebar-right hidden')['data-reviews-count'])\n",
    "            calories = item.find(class_='nutrition-top light-underline').text.split(' ')[-2]\n",
    "            values = item.find_all(class_='nutrient-value')\n",
    "            values_list = []\n",
    "            values_list.append(ratings_average)\n",
    "            values_list.append(ratings_count)\n",
    "            values_list.append(reviews_count)\n",
    "            values_list.append(calories)\n",
    "            for value in values:\n",
    "                values_list.append(float(re.sub('[a-zA-Z]', '', value.text).strip()))\n",
    "                dict[title] = values_list\n",
    "        except TypeError:\n",
    "            pass\n",
    "    return dict\n",
    "\n",
    "values_dict = recipe_dict(recipes_soup)"
   ]
  },
  {
   "cell_type": "code",
   "execution_count": 11,
   "id": "828baab7",
   "metadata": {},
   "outputs": [
    {
     "data": {
      "text/plain": [
       "1670"
      ]
     },
     "execution_count": 11,
     "metadata": {},
     "output_type": "execute_result"
    }
   ],
   "source": [
    "len(values_dict)"
   ]
  },
  {
   "cell_type": "markdown",
   "id": "611dc7c3",
   "metadata": {},
   "source": [
    "### A subset of values in the above dictionary have a length different than 23 (the number of features and targets that we are selecting). That most probably is due to anomalies in the structure of the webpage for their recipes. In making our dataframe from the recipes dict, we remove those:"
   ]
  },
  {
   "cell_type": "code",
   "execution_count": 12,
   "id": "3526f859",
   "metadata": {},
   "outputs": [],
   "source": [
    "# Making the final dataframe from the values dictionary:\n",
    "\n",
    "columns = ['recipe', 'rating', 'rating_num', 'review_num'\n",
    "           , 'calories', 'protein', 'carbs'\n",
    "           , 'diet_fiber', 'sugars', 'fat'\n",
    "           , 'sat_fat', 'cholesterol', 'vit_A'\n",
    "           , 'niacin_eq', 'vit_B6', 'vit_C'\n",
    "           , 'folate', 'calcium', 'iron'\n",
    "           , 'magnesium', 'potassium', 'sodium'\n",
    "           , 'thiamin', 'calories_fat']\n",
    "\n",
    "def recipes_df_maker(values_dict):\n",
    "    final_dict = {}\n",
    "    for i in values_dict.keys():\n",
    "        if len(values_dict[i]) == 23:\n",
    "            final_dict[i] = values_dict[i]\n",
    "    df = pd.DataFrame(final_dict).T.reset_index()\n",
    "    df.set_axis(columns, axis=1, inplace=True)\n",
    "    return df\n",
    "    "
   ]
  },
  {
   "cell_type": "code",
   "execution_count": 13,
   "id": "ef465253",
   "metadata": {},
   "outputs": [],
   "source": [
    "recipes_df = recipes_df_maker(values_dict)"
   ]
  },
  {
   "cell_type": "code",
   "execution_count": 14,
   "id": "a3223699",
   "metadata": {},
   "outputs": [
    {
     "data": {
      "text/html": [
       "<div>\n",
       "<style scoped>\n",
       "    .dataframe tbody tr th:only-of-type {\n",
       "        vertical-align: middle;\n",
       "    }\n",
       "\n",
       "    .dataframe tbody tr th {\n",
       "        vertical-align: top;\n",
       "    }\n",
       "\n",
       "    .dataframe thead th {\n",
       "        text-align: right;\n",
       "    }\n",
       "</style>\n",
       "<table border=\"1\" class=\"dataframe\">\n",
       "  <thead>\n",
       "    <tr style=\"text-align: right;\">\n",
       "      <th></th>\n",
       "      <th>recipe</th>\n",
       "      <th>rating</th>\n",
       "      <th>rating_num</th>\n",
       "      <th>review_num</th>\n",
       "      <th>calories</th>\n",
       "      <th>protein</th>\n",
       "      <th>carbs</th>\n",
       "      <th>diet_fiber</th>\n",
       "      <th>sugars</th>\n",
       "      <th>fat</th>\n",
       "      <th>...</th>\n",
       "      <th>vit_B6</th>\n",
       "      <th>vit_C</th>\n",
       "      <th>folate</th>\n",
       "      <th>calcium</th>\n",
       "      <th>iron</th>\n",
       "      <th>magnesium</th>\n",
       "      <th>potassium</th>\n",
       "      <th>sodium</th>\n",
       "      <th>thiamin</th>\n",
       "      <th>calories_fat</th>\n",
       "    </tr>\n",
       "  </thead>\n",
       "  <tbody>\n",
       "    <tr>\n",
       "      <th>0</th>\n",
       "      <td>Oven-Roasted Turkey Breast</td>\n",
       "      <td>4.710801</td>\n",
       "      <td>287.0</td>\n",
       "      <td>285.0</td>\n",
       "      <td>384.6</td>\n",
       "      <td>60.3</td>\n",
       "      <td>4.3</td>\n",
       "      <td>0.4</td>\n",
       "      <td>0.3</td>\n",
       "      <td>11.8</td>\n",
       "      <td>...</td>\n",
       "      <td>1.1</td>\n",
       "      <td>0.7</td>\n",
       "      <td>20.9</td>\n",
       "      <td>40.1</td>\n",
       "      <td>3.5</td>\n",
       "      <td>61.4</td>\n",
       "      <td>615.2</td>\n",
       "      <td>313.8</td>\n",
       "      <td>0.1</td>\n",
       "      <td>106.6</td>\n",
       "    </tr>\n",
       "    <tr>\n",
       "      <th>1</th>\n",
       "      <td>Juicy Thanksgiving Turkey</td>\n",
       "      <td>4.836009</td>\n",
       "      <td>872.0</td>\n",
       "      <td>894.0</td>\n",
       "      <td>555.6</td>\n",
       "      <td>69.3</td>\n",
       "      <td>4.3</td>\n",
       "      <td>1.0</td>\n",
       "      <td>1.9</td>\n",
       "      <td>24.0</td>\n",
       "      <td>...</td>\n",
       "      <td>1.1</td>\n",
       "      <td>6.3</td>\n",
       "      <td>27.2</td>\n",
       "      <td>93.5</td>\n",
       "      <td>5.4</td>\n",
       "      <td>71.1</td>\n",
       "      <td>789.4</td>\n",
       "      <td>680.2</td>\n",
       "      <td>0.2</td>\n",
       "      <td>216.2</td>\n",
       "    </tr>\n",
       "    <tr>\n",
       "      <th>2</th>\n",
       "      <td>Spaghetti Aglio e Olio | Allrecipes</td>\n",
       "      <td>4.691974</td>\n",
       "      <td>461.0</td>\n",
       "      <td>459.0</td>\n",
       "      <td>754.6</td>\n",
       "      <td>22.9</td>\n",
       "      <td>87.4</td>\n",
       "      <td>3.9</td>\n",
       "      <td>3.3</td>\n",
       "      <td>34.5</td>\n",
       "      <td>...</td>\n",
       "      <td>0.2</td>\n",
       "      <td>6.5</td>\n",
       "      <td>277.0</td>\n",
       "      <td>259.5</td>\n",
       "      <td>4.4</td>\n",
       "      <td>71.0</td>\n",
       "      <td>321.0</td>\n",
       "      <td>354.8</td>\n",
       "      <td>1.2</td>\n",
       "      <td>310.7</td>\n",
       "    </tr>\n",
       "    <tr>\n",
       "      <th>3</th>\n",
       "      <td>Marie's Easy Slow Cooker Pot Roast</td>\n",
       "      <td>4.587838</td>\n",
       "      <td>2368.0</td>\n",
       "      <td>2388.0</td>\n",
       "      <td>540.2</td>\n",
       "      <td>45.7</td>\n",
       "      <td>18.2</td>\n",
       "      <td>2.8</td>\n",
       "      <td>2.4</td>\n",
       "      <td>30.6</td>\n",
       "      <td>...</td>\n",
       "      <td>1.2</td>\n",
       "      <td>18.3</td>\n",
       "      <td>35.1</td>\n",
       "      <td>47.1</td>\n",
       "      <td>6.0</td>\n",
       "      <td>69.2</td>\n",
       "      <td>1172.7</td>\n",
       "      <td>271.9</td>\n",
       "      <td>0.3</td>\n",
       "      <td>275.1</td>\n",
       "    </tr>\n",
       "    <tr>\n",
       "      <th>4</th>\n",
       "      <td>Best Tuna Casserole</td>\n",
       "      <td>4.321311</td>\n",
       "      <td>2745.0</td>\n",
       "      <td>2805.0</td>\n",
       "      <td>595</td>\n",
       "      <td>32.1</td>\n",
       "      <td>58.1</td>\n",
       "      <td>3.8</td>\n",
       "      <td>4.6</td>\n",
       "      <td>26.1</td>\n",
       "      <td>...</td>\n",
       "      <td>0.4</td>\n",
       "      <td>7.4</td>\n",
       "      <td>164.5</td>\n",
       "      <td>319.2</td>\n",
       "      <td>5.0</td>\n",
       "      <td>75.7</td>\n",
       "      <td>602.1</td>\n",
       "      <td>1061.1</td>\n",
       "      <td>0.7</td>\n",
       "      <td>235.0</td>\n",
       "    </tr>\n",
       "  </tbody>\n",
       "</table>\n",
       "<p>5 rows × 24 columns</p>\n",
       "</div>"
      ],
      "text/plain": [
       "                                recipe    rating rating_num review_num  \\\n",
       "0           Oven-Roasted Turkey Breast  4.710801      287.0      285.0   \n",
       "1            Juicy Thanksgiving Turkey  4.836009      872.0      894.0   \n",
       "2  Spaghetti Aglio e Olio | Allrecipes  4.691974      461.0      459.0   \n",
       "3   Marie's Easy Slow Cooker Pot Roast  4.587838     2368.0     2388.0   \n",
       "4                  Best Tuna Casserole  4.321311     2745.0     2805.0   \n",
       "\n",
       "  calories protein carbs diet_fiber sugars   fat  ... vit_B6 vit_C folate  \\\n",
       "0    384.6    60.3   4.3        0.4    0.3  11.8  ...    1.1   0.7   20.9   \n",
       "1    555.6    69.3   4.3        1.0    1.9  24.0  ...    1.1   6.3   27.2   \n",
       "2    754.6    22.9  87.4        3.9    3.3  34.5  ...    0.2   6.5  277.0   \n",
       "3    540.2    45.7  18.2        2.8    2.4  30.6  ...    1.2  18.3   35.1   \n",
       "4      595    32.1  58.1        3.8    4.6  26.1  ...    0.4   7.4  164.5   \n",
       "\n",
       "  calcium iron magnesium potassium  sodium thiamin calories_fat  \n",
       "0    40.1  3.5      61.4     615.2   313.8     0.1        106.6  \n",
       "1    93.5  5.4      71.1     789.4   680.2     0.2        216.2  \n",
       "2   259.5  4.4      71.0     321.0   354.8     1.2        310.7  \n",
       "3    47.1  6.0      69.2    1172.7   271.9     0.3        275.1  \n",
       "4   319.2  5.0      75.7     602.1  1061.1     0.7        235.0  \n",
       "\n",
       "[5 rows x 24 columns]"
      ]
     },
     "execution_count": 14,
     "metadata": {},
     "output_type": "execute_result"
    }
   ],
   "source": [
    "recipes_df.head()"
   ]
  },
  {
   "cell_type": "markdown",
   "id": "1aeec9c0",
   "metadata": {},
   "source": [
    "### We finally save our dataframe into a CSV file for further analysis:"
   ]
  },
  {
   "cell_type": "code",
   "execution_count": 15,
   "id": "f44be7c6",
   "metadata": {},
   "outputs": [],
   "source": [
    "recipes_df.to_csv('recipes_df.csv')"
   ]
  }
 ],
 "metadata": {
  "kernelspec": {
   "display_name": "Python 3",
   "language": "python",
   "name": "python3"
  },
  "language_info": {
   "codemirror_mode": {
    "name": "ipython",
    "version": 3
   },
   "file_extension": ".py",
   "mimetype": "text/x-python",
   "name": "python",
   "nbconvert_exporter": "python",
   "pygments_lexer": "ipython3",
   "version": "3.8.8"
  }
 },
 "nbformat": 4,
 "nbformat_minor": 5
}
